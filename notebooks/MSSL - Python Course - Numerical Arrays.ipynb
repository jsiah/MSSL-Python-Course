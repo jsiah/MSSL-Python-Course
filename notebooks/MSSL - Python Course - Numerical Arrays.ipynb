{
 "metadata": {
  "name": "MSSL - Python Course - Numerical Arrays"
 },
 "nbformat": 3,
 "nbformat_minor": 0,
 "worksheets": [
  {
   "cells": [
    {
     "cell_type": "heading",
     "level": 1,
     "metadata": {},
     "source": [
      "Numerical Arrays"
     ]
    },
    {
     "cell_type": "raw",
     "metadata": {},
     "source": [
      "Documentation: http://docs.scipy.org/doc/"
     ]
    },
    {
     "cell_type": "heading",
     "level": 2,
     "metadata": {},
     "source": [
      "Why use NumPy?"
     ]
    },
    {
     "cell_type": "raw",
     "metadata": {},
     "source": [
      "1) Core Python not very good when dealing with arrays/vectors\n",
      "2) For speed (but not always, see the example at the end)\n",
      "3) Memory consumption"
     ]
    },
    {
     "cell_type": "code",
     "collapsed": false,
     "input": [
      "import numpy as np"
     ],
     "language": "python",
     "metadata": {},
     "outputs": []
    },
    {
     "cell_type": "code",
     "collapsed": false,
     "input": [
      "l = range(1000)\n",
      "\n",
      "#%timeit is an ipython magic function, which allows to measure performance\n",
      "%timeit [i**2 for i in l]  #this structure is called list comprehension"
     ],
     "language": "python",
     "metadata": {},
     "outputs": []
    },
    {
     "cell_type": "code",
     "collapsed": false,
     "input": [
      "#huge speed gain when using numpy instead of looping over lists\n",
      "a = np.arange(1000)\n",
      "%timeit a**2"
     ],
     "language": "python",
     "metadata": {},
     "outputs": []
    },
    {
     "cell_type": "heading",
     "level": 2,
     "metadata": {},
     "source": [
      "1D arrays"
     ]
    },
    {
     "cell_type": "code",
     "collapsed": false,
     "input": [
      "print 'From a Python list to NumPy Array:'\n",
      "a = np.asarray([1,2,3,4,5,6,7]) #from Python list\n",
      "\n",
      "print type(a), '\\n'\n",
      "\n",
      "print a.dtype, a.shape, len(a), a.ndim, '\\n'\n",
      "\n",
      "print a[1:-2]   #slicing works like in case of lists\n",
      "print a[1::2]   #take every second starting from 1"
     ],
     "language": "python",
     "metadata": {},
     "outputs": []
    },
    {
     "cell_type": "code",
     "collapsed": false,
     "input": [
      "print a.astype(np.float) / 2, '\\n'\n",
      "print np.log10(a)  #now we don't need to loop, like in case of lists!"
     ],
     "language": "python",
     "metadata": {},
     "outputs": []
    },
    {
     "cell_type": "code",
     "collapsed": false,
     "input": [
      "#more often, however, arrays are created on fly or read out (will talk about this later)\n",
      "b = np.arange(5)\n",
      "c = np.logspace(1, 3, 5)\n",
      "\n",
      "print b\n",
      "print c\n",
      "print (b + c) / (b*c**2)  #note that b[0] = 0 and appear in division..."
     ],
     "language": "python",
     "metadata": {},
     "outputs": []
    },
    {
     "cell_type": "heading",
     "level": 3,
     "metadata": {},
     "source": [
      "Basic statistics"
     ]
    },
    {
     "cell_type": "code",
     "collapsed": false,
     "input": [
      "b = np.linspace(1, 10, 5)\n",
      "\n",
      "print b\n",
      "print np.mean(b), np.median(b), np.max(b), np.min(b), np.std(b)"
     ],
     "language": "python",
     "metadata": {},
     "outputs": []
    },
    {
     "cell_type": "heading",
     "level": 3,
     "metadata": {},
     "source": [
      "Argument finding"
     ]
    },
    {
     "cell_type": "code",
     "collapsed": false,
     "input": [
      "print np.argmin(b)\n",
      "print np.argmax(b)\n",
      "print b[b.argmax()] #you can pass the argument back to the array"
     ],
     "language": "python",
     "metadata": {},
     "outputs": []
    },
    {
     "cell_type": "heading",
     "level": 3,
     "metadata": {},
     "source": [
      "Warning: NumPy arrays are references!"
     ]
    },
    {
     "cell_type": "code",
     "collapsed": false,
     "input": [
      "a = np.asarray([1,2,3,4])\n",
      "\n",
      "print a\n",
      "\n",
      "b = a  #reference, points to the same location in the memory!\n",
      "\n",
      "print a is b"
     ],
     "language": "python",
     "metadata": {},
     "outputs": []
    },
    {
     "cell_type": "code",
     "collapsed": false,
     "input": [
      "b[1] = -999\n",
      "\n",
      "print a  #this happens even if you use functions!"
     ],
     "language": "python",
     "metadata": {},
     "outputs": []
    },
    {
     "cell_type": "code",
     "collapsed": false,
     "input": [
      "a = np.asarray([1,2,3,4])\n",
      "b = a.copy()  # a copy is needed so that the original array is not modified\n",
      "\n",
      "b[1] = -999\n",
      "\n",
      "print a\n",
      "print a is b"
     ],
     "language": "python",
     "metadata": {},
     "outputs": []
    },
    {
     "cell_type": "heading",
     "level": 2,
     "metadata": {},
     "source": [
      "N-dimensional arrays"
     ]
    },
    {
     "cell_type": "heading",
     "level": 3,
     "metadata": {},
     "source": [
      "Slicing order"
     ]
    },
    {
     "cell_type": "code",
     "collapsed": false,
     "input": [
      "#to show images in the Notebook\n",
      "from IPython.core.display import Image\n",
      "\n",
      "#great image to demonstrate numpy arrays\n",
      "#from excellent learning material of http://scipy-lectures.github.com/intro/numpy/array_object.html\n",
      "#please look at the scipy-lectures for more detailed presentation than here.\n",
      "Image(filename=\"../data/numpy.png\")"
     ],
     "language": "python",
     "metadata": {},
     "outputs": []
    },
    {
     "cell_type": "heading",
     "level": 3,
     "metadata": {},
     "source": [
      "Shape Manipulations"
     ]
    },
    {
     "cell_type": "code",
     "collapsed": false,
     "input": [
      "a = np.arange(36).reshape(6,6)\n",
      "\n",
      "print a\n",
      "print a.shape"
     ],
     "language": "python",
     "metadata": {},
     "outputs": []
    },
    {
     "cell_type": "code",
     "collapsed": false,
     "input": [
      "print 'Reshaping without specifying all dimensions (-1 means whatever is needed)'\n",
      "\n",
      "b = np.reshape(np.arange(36), (2, -1, 3))   #2 arrays, ? rows, 3 columns\n",
      "print b"
     ],
     "language": "python",
     "metadata": {},
     "outputs": []
    },
    {
     "cell_type": "code",
     "collapsed": false,
     "input": [
      "#it was 6 in this case, but note that the shape needs to match 36 = 2 * 6 * 3\n",
      "print b.shape #arrays, lines, columns"
     ],
     "language": "python",
     "metadata": {},
     "outputs": []
    },
    {
     "cell_type": "code",
     "collapsed": false,
     "input": [
      "#flattening\n",
      "print a.ravel(), '\\n'\n",
      "\n",
      "print a.T.ravel()  #transpose before flattening"
     ],
     "language": "python",
     "metadata": {},
     "outputs": []
    },
    {
     "cell_type": "heading",
     "level": 3,
     "metadata": {},
     "source": [
      "Operations"
     ]
    },
    {
     "cell_type": "code",
     "collapsed": false,
     "input": [
      "print 'Averaging over different axis:'\n",
      "print np.mean(b, axis=0) #0=column, two arrays together: (0 + 18)/2 = 9 etc. "
     ],
     "language": "python",
     "metadata": {},
     "outputs": []
    },
    {
     "cell_type": "code",
     "collapsed": false,
     "input": [
      "print np.mean(b, axis=1) #1=row direction, each array separately\n",
      "\n",
      "print '\\n', (3+6+9+12+15) / 6."
     ],
     "language": "python",
     "metadata": {},
     "outputs": []
    },
    {
     "cell_type": "code",
     "collapsed": false,
     "input": [
      "print np.std(b, axis=0) #standard deviation along 0th axis"
     ],
     "language": "python",
     "metadata": {},
     "outputs": []
    },
    {
     "cell_type": "heading",
     "level": 3,
     "metadata": {},
     "source": [
      "Stacking"
     ]
    },
    {
     "cell_type": "code",
     "collapsed": false,
     "input": [
      "a = np.floor(10*np.random.random((2,2)))\n",
      "b = np.floor(10*np.random.random((2,2)))\n",
      "\n",
      "print a, '\\n'\n",
      "print b, '\\n'\n",
      "print a.shape"
     ],
     "language": "python",
     "metadata": {},
     "outputs": []
    },
    {
     "cell_type": "code",
     "collapsed": false,
     "input": [
      "#vertical\n",
      "tmp = np.vstack((a,b))\n",
      "\n",
      "print tmp\n",
      "print tmp.shape  #row/\"y\" major!"
     ],
     "language": "python",
     "metadata": {},
     "outputs": []
    },
    {
     "cell_type": "code",
     "collapsed": false,
     "input": [
      "#horizontal\n",
      "print np.hstack((a,b))"
     ],
     "language": "python",
     "metadata": {},
     "outputs": []
    },
    {
     "cell_type": "heading",
     "level": 3,
     "metadata": {},
     "source": [
      "Tiling arrays"
     ]
    },
    {
     "cell_type": "code",
     "collapsed": false,
     "input": [
      "a = np.arange(5)\n",
      "\n",
      "print np.tile(a, (2, 3))  #2 rows, 3 sequencies"
     ],
     "language": "python",
     "metadata": {},
     "outputs": []
    },
    {
     "cell_type": "heading",
     "level": 3,
     "metadata": {},
     "source": [
      "Broadcasting"
     ]
    },
    {
     "cell_type": "code",
     "collapsed": false,
     "input": [
      "#Tile the input array and transpose\n",
      "a = np.tile(np.arange(0, 40, 10), (3, 1)).T\n",
      "print a, '\\n'\n",
      "\n",
      "b = np.array([0, 1, 2])\n",
      "print a.shape, b.shape, '\\n'\n",
      "\n",
      "print b"
     ],
     "language": "python",
     "metadata": {},
     "outputs": []
    },
    {
     "cell_type": "code",
     "collapsed": false,
     "input": [
      "#numpy will try to transform arrays of different sizes, if possible\n",
      "print a + b"
     ],
     "language": "python",
     "metadata": {},
     "outputs": []
    },
    {
     "cell_type": "heading",
     "level": 4,
     "metadata": {},
     "source": [
      "Example: distance from origin"
     ]
    },
    {
     "cell_type": "code",
     "collapsed": false,
     "input": [
      "#generate data from 0 to 9\n",
      "x = np.arange(10)\n",
      "y = np.arange(10)\n",
      "\n",
      "print y[:, np.newaxis]\n",
      "print y[:, np.newaxis].shape"
     ],
     "language": "python",
     "metadata": {},
     "outputs": []
    },
    {
     "cell_type": "code",
     "collapsed": false,
     "input": [
      "#we need a new axis to get a \"grid\"\n",
      "distance = np.sqrt(x**2 + y[:, np.newaxis]**2)  \n",
      "\n",
      "#plot with matplotlib, we will talk about plotting more later\n",
      "import matplotlib.pyplot as plt\n",
      "plt.figure()\n",
      "plt.pcolor(distance)\n",
      "plt.colorbar()\n",
      "plt.show()"
     ],
     "language": "python",
     "metadata": {},
     "outputs": []
    },
    {
     "cell_type": "heading",
     "level": 2,
     "metadata": {},
     "source": [
      "Sorting"
     ]
    },
    {
     "cell_type": "code",
     "collapsed": false,
     "input": [
      "a = np.array([[4, 3, 5], [1, 2, 1]])\n",
      "\n",
      "print a, '\\n'\n",
      "print np.sort(a, axis=1) #each row separately"
     ],
     "language": "python",
     "metadata": {},
     "outputs": []
    },
    {
     "cell_type": "code",
     "collapsed": false,
     "input": [
      "data = np.asarray([4,-2,0,1,5,10])\n",
      "arguments = np.argsort(data)\n",
      "\n",
      "print arguments\n",
      "print data[arguments]"
     ],
     "language": "python",
     "metadata": {},
     "outputs": []
    },
    {
     "cell_type": "code",
     "collapsed": false,
     "input": [
      "dtype = [('wavelength', int), ('flux', float), ('sensitivity', float)]\n",
      "values = [(2000, 10, 5), (1300, 20, 10), (1900, 15, 8), (1700, 5, 5), (1900, 100, 1)]\n",
      "array = np.array(values, dtype=dtype)\n",
      "\n",
      "print array"
     ],
     "language": "python",
     "metadata": {},
     "outputs": []
    },
    {
     "cell_type": "code",
     "collapsed": false,
     "input": [
      "print np.sort(array, order='wavelength')"
     ],
     "language": "python",
     "metadata": {},
     "outputs": []
    },
    {
     "cell_type": "code",
     "collapsed": false,
     "input": [
      "print np.sort(array, order=['wavelength', 'sensitivity'])"
     ],
     "language": "python",
     "metadata": {},
     "outputs": []
    },
    {
     "cell_type": "heading",
     "level": 2,
     "metadata": {},
     "source": [
      "Fancy Indexing and Where Function"
     ]
    },
    {
     "cell_type": "code",
     "collapsed": false,
     "input": [
      "a = np.random.random_integers(0, 20, 15)\n",
      "\n",
      "#% = modulo!\n",
      "msk = a % 3 == 0\n",
      "\n",
      "print msk  #boolean array of the same size as the original\n",
      "print a[msk]"
     ],
     "language": "python",
     "metadata": {},
     "outputs": []
    },
    {
     "cell_type": "code",
     "collapsed": false,
     "input": [
      "data = (np.arange(10) - np.log(5))*2\n",
      "print data, '\\n'\n",
      "\n",
      "msk = (data > 0.5) & (data < 5)  #note & not \"and\"\n",
      "print msk\n",
      "print data[msk]"
     ],
     "language": "python",
     "metadata": {},
     "outputs": []
    },
    {
     "cell_type": "code",
     "collapsed": false,
     "input": [
      "inds = np.where((data < 0) | (data > 13))  #note | not \"or\"\n",
      "\n",
      "print 'If indices are needed, use where:'\n",
      "print inds #this shows the indeces, not the full array (unless every element satifies the requirement)\n",
      "print data[inds]"
     ],
     "language": "python",
     "metadata": {},
     "outputs": []
    },
    {
     "cell_type": "code",
     "collapsed": false,
     "input": [
      "print 'or if you wish to compute on some...'\n",
      "\n",
      "d = np.array([1, 0.0, -3, 0, 1], float)\n",
      "\n",
      "print np.where(d != 0.0, 1/d, 999)"
     ],
     "language": "python",
     "metadata": {},
     "outputs": []
    },
    {
     "cell_type": "heading",
     "level": 2,
     "metadata": {},
     "source": [
      "Matrixes"
     ]
    },
    {
     "cell_type": "code",
     "collapsed": false,
     "input": [
      "a = np.matrix([[1, 2], [3, 4]])\n",
      "print a\n",
      "\n",
      "i = np.identity(2)\n",
      "print '\\n', i\n",
      "print '\\n', a * i\n",
      "print '\\n', a * a  #1*1 + 3*2 = 7, 1*2 + 2*4 = 10, etc."
     ],
     "language": "python",
     "metadata": {},
     "outputs": []
    },
    {
     "cell_type": "code",
     "collapsed": false,
     "input": [
      "print 'Determinant:', np.linalg.det(a)  #1*4 - (2*3) = -2\n",
      "\n",
      "inv = np.linalg.inv(a)\n",
      "\n",
      "print '\\nInverse:'\n",
      "print inv\n",
      "print '\\n', inv*a  #should be close to identity"
     ],
     "language": "python",
     "metadata": {},
     "outputs": []
    },
    {
     "cell_type": "heading",
     "level": 2,
     "metadata": {},
     "source": [
      "Masked Arrays"
     ]
    },
    {
     "cell_type": "code",
     "collapsed": false,
     "input": [
      "import numpy.ma as ma\n",
      "\n",
      "x = np.array([1, 0, 4, -1, 5.])\n",
      "mx = ma.masked_array(x, mask=[0, 0, 0, 1, 0]) #1=True\n",
      "\n",
      "print mx.mean(), '=', (1+0+4+5) / 4."
     ],
     "language": "python",
     "metadata": {},
     "outputs": []
    },
    {
     "cell_type": "code",
     "collapsed": false,
     "input": [
      "print mx - mx.mean()\n",
      "print 'Replacing/filling with the average value:'\n",
      "print mx.filled(mx.mean())"
     ],
     "language": "python",
     "metadata": {},
     "outputs": []
    },
    {
     "cell_type": "code",
     "collapsed": false,
     "input": [
      "x = ma.array([1., -1., 3., 4., 5., 6.], mask=[0,0,0,0,1,0])\n",
      "y = ma.array([1., 2., 0., 4., 5., 6.], mask=[0,0,0,0,0,1])\n",
      "\n",
      "print 'Masks problematic operations like dividing with zero, square roots of negative numbers...'\n",
      "print np.sqrt(x/y)"
     ],
     "language": "python",
     "metadata": {},
     "outputs": []
    },
    {
     "cell_type": "heading",
     "level": 2,
     "metadata": {},
     "source": [
      "Vectorizing (mapping for ndarrays)"
     ]
    },
    {
     "cell_type": "code",
     "collapsed": false,
     "input": [
      "def myFunction(a, b):\n",
      "    \"Whatever function, just a dummy example\"\n",
      "    if a > 5:\n",
      "        return a + b\n",
      "    else:\n",
      "        return a - b\n",
      "    \n",
      "x = np.arange(10)\n",
      "y = np.arange(10)\n",
      "\n",
      "#this would not work, because the truth value of an array \n",
      "#with more than one element is ambiguous.\n",
      "#res = myFunction(x, y)\n",
      "\n",
      "vfunc = np.vectorize(myFunction)\n",
      "print vfunc(x, y)"
     ],
     "language": "python",
     "metadata": {},
     "outputs": []
    },
    {
     "cell_type": "heading",
     "level": 2,
     "metadata": {},
     "source": [
      "Polynomials"
     ]
    },
    {
     "cell_type": "code",
     "collapsed": false,
     "input": [
      "#create data with noise\n",
      "x = np.linspace(-1.2, 1.2, 1000)\n",
      "y = np.tan(x) + 2.5*np.random.rand(1000)\n",
      "\n",
      "#fit 100th and 10th order Hermite polynomial\n",
      "fit100 = np.polynomial.hermite.hermfit(x, y, 100)\n",
      "fit20 = np.polynomial.hermite.hermfit(x, y, 10)\n",
      "#also available Chebyshev, Legendre, Laguerre..."
     ],
     "language": "python",
     "metadata": {},
     "outputs": []
    },
    {
     "cell_type": "code",
     "collapsed": false,
     "input": [
      "t = np.linspace(-1.2, 1.2, 200)\n",
      "\n",
      "#plot using matplotlib\n",
      "import matplotlib.pyplot as plt\n",
      "\n",
      "plt.figure(figsize=(8,8))\n",
      "plt.plot(x, y, 'ro', alpha=0.5, ms=4)\n",
      "plt.plot(t, np.polynomial.hermite.hermval(t, fit20), 'g-', lw=4, label='Hermite 20')\n",
      "plt.plot(t, np.polynomial.hermite.hermval(t, fit100), 'k-', lw=3, label='Hermite 100')\n",
      "plt.legend(loc='best', shadow=True, fancybox=True)\n",
      "plt.show()"
     ],
     "language": "python",
     "metadata": {},
     "outputs": []
    },
    {
     "cell_type": "heading",
     "level": 2,
     "metadata": {},
     "source": [
      "Monte Carlo Example: estimating pi with random numbers"
     ]
    },
    {
     "cell_type": "code",
     "collapsed": false,
     "input": [
      "points = 1e7\n",
      "randoms = np.random.rand(points, 2)\n",
      "x = randoms[:, 0] #slice the arrays everything (:) in y, first in x\n",
      "y = randoms[:, 1]\n",
      "\n",
      "#find the points inside a unit circle, ignoring sqrt\n",
      "ids = x**2 + y**2 < 1\n",
      "#calculate how many were inside (True=1, False=0)\n",
      "inside = np.sum(ids)\n",
      "\n",
      "# estimation of pi\n",
      "pi = inside / points * 4\n",
      "print 'Result: %.8f' % pi\n",
      "print 'Error: %0.8f' % (1-np.pi/pi)"
     ],
     "language": "python",
     "metadata": {},
     "outputs": []
    },
    {
     "cell_type": "heading",
     "level": 2,
     "metadata": {},
     "source": [
      "Speed test: NumPy vs numexpr"
     ]
    },
    {
     "cell_type": "code",
     "collapsed": false,
     "input": [
      "import numexpr as ne\n",
      "a = np.random.random((4000, 4000))\n",
      "b = np.random.random((4000, 4000))"
     ],
     "language": "python",
     "metadata": {},
     "outputs": []
    },
    {
     "cell_type": "code",
     "collapsed": false,
     "input": [
      "%timeit a**5 + a*b - b*2.234"
     ],
     "language": "python",
     "metadata": {},
     "outputs": []
    },
    {
     "cell_type": "code",
     "collapsed": false,
     "input": [
      "%timeit ne.evaluate(\"a**5 + a*b - b*2.234\")"
     ],
     "language": "python",
     "metadata": {},
     "outputs": []
    },
    {
     "cell_type": "code",
     "collapsed": false,
     "input": [
      "n1 = a**5 + a*b - b*2.234\n",
      "n2 = ne.evaluate(\"a**5 + a*b - b*2.234\")"
     ],
     "language": "python",
     "metadata": {},
     "outputs": []
    },
    {
     "cell_type": "code",
     "collapsed": false,
     "input": [
      "print 'To show that the results are more or less the same (no error)...'\n",
      "np.testing.assert_almost_equal(n1, n2, decimal=7, err_msg='Values do not match...')"
     ],
     "language": "python",
     "metadata": {},
     "outputs": []
    }
   ],
   "metadata": {}
  }
 ]
}