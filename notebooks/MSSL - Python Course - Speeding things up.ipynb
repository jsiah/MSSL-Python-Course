{
 "metadata": {
  "name": "MSSL - Python Course - Speeding things up"
 },
 "nbformat": 3,
 "nbformat_minor": 0,
 "worksheets": [
  {
   "cells": [
    {
     "cell_type": "heading",
     "level": 1,
     "metadata": {},
     "source": [
      "Speeding Things Up"
     ]
    },
    {
     "cell_type": "raw",
     "metadata": {},
     "source": [
      "Multiprocessing examples in their own folder..."
     ]
    },
    {
     "cell_type": "heading",
     "level": 2,
     "metadata": {},
     "source": [
      "Calling Fortran"
     ]
    },
    {
     "cell_type": "heading",
     "level": 3,
     "metadata": {},
     "source": [
      "Fortran Code"
     ]
    },
    {
     "cell_type": "raw",
     "metadata": {},
     "source": [
      "SUBROUTINE example(sinp, xdim, ydim, sout)\n",
      "\n",
      "IMPLICIT NONE\n",
      "\n",
      "!inputs and outputs\n",
      "INTEGER, INTENT(in)                                  :: xdim, ydim\n",
      "DOUBLE PRECISION, DIMENSION(xdim, ydim), INTENT(in)  :: sinp\n",
      "DOUBLE PRECISION, DIMENSION(xdim, ydim), INTENT(out) :: sout\n",
      "!work variables\n",
      "INTEGER                                              :: i, j\n",
      "\n",
      "!simple transpose\n",
      "DO i = 1, xdim\n",
      "   DO j = 1, ydim\n",
      "      sout(j, i) = sinp(i, j)\n",
      "   ENDDO\n",
      "ENDDO\n",
      "\n",
      "END SUBROUTINE example"
     ]
    },
    {
     "cell_type": "heading",
     "level": 3,
     "metadata": {},
     "source": [
      "Compling it with f2py (part of NumPy)"
     ]
    },
    {
     "cell_type": "raw",
     "metadata": {},
     "source": [
      "f2py -c -m my_fortran_module fortran.f90"
     ]
    },
    {
     "cell_type": "heading",
     "level": 3,
     "metadata": {},
     "source": [
      "Calling from Python"
     ]
    },
    {
     "cell_type": "code",
     "collapsed": false,
     "input": [
      "#import like any other package\n",
      "import my_fortran_module"
     ],
     "language": "python",
     "metadata": {},
     "outputs": []
    },
    {
     "cell_type": "code",
     "collapsed": false,
     "input": [
      "help(my_fortran_module)"
     ],
     "language": "python",
     "metadata": {},
     "outputs": []
    },
    {
     "cell_type": "code",
     "collapsed": false,
     "input": [
      "import numpy as np\n",
      "data = np.arange(36).reshape(6,6)\n",
      "print data"
     ],
     "language": "python",
     "metadata": {},
     "outputs": []
    },
    {
     "cell_type": "code",
     "collapsed": false,
     "input": [
      "fordata = my_fortran_module.example(data)"
     ],
     "language": "python",
     "metadata": {},
     "outputs": []
    },
    {
     "cell_type": "code",
     "collapsed": false,
     "input": [
      "print fordata"
     ],
     "language": "python",
     "metadata": {},
     "outputs": []
    },
    {
     "cell_type": "code",
     "collapsed": false,
     "input": [
      "print data.T"
     ],
     "language": "python",
     "metadata": {},
     "outputs": []
    },
    {
     "cell_type": "code",
     "collapsed": false,
     "input": [
      "data = np.arange(3600).reshape(60,60)"
     ],
     "language": "python",
     "metadata": {},
     "outputs": []
    },
    {
     "cell_type": "code",
     "collapsed": false,
     "input": [
      "%timeit my_fortran_module.example(data)"
     ],
     "language": "python",
     "metadata": {},
     "outputs": []
    },
    {
     "cell_type": "code",
     "collapsed": false,
     "input": [
      "%timeit data.T"
     ],
     "language": "python",
     "metadata": {},
     "outputs": []
    }
   ],
   "metadata": {}
  }
 ]
}