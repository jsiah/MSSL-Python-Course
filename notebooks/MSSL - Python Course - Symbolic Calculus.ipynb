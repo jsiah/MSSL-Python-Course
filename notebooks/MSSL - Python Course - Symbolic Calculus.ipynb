{
 "metadata": {
  "name": "MSSL - Python Course - Symbolic Calculus"
 },
 "nbformat": 3,
 "nbformat_minor": 0,
 "worksheets": [
  {
   "cells": [
    {
     "cell_type": "heading",
     "level": 1,
     "metadata": {},
     "source": [
      "Symbolic Calculus"
     ]
    },
    {
     "cell_type": "heading",
     "level": 2,
     "metadata": {},
     "source": [
      "Derivatives"
     ]
    },
    {
     "cell_type": "code",
     "collapsed": false,
     "input": [
      "import sympy as sp\n",
      "\n",
      "a = sp.Symbol('a')\n",
      "b = sp.Symbol('b')\n",
      "\n",
      "e = (a + 2*b)**5\n",
      "print e.diff(b)"
     ],
     "language": "python",
     "metadata": {},
     "outputs": []
    },
    {
     "cell_type": "heading",
     "level": 2,
     "metadata": {},
     "source": [
      "Integrals"
     ]
    },
    {
     "cell_type": "code",
     "collapsed": false,
     "input": [
      "sp.integrate(a**2 * sp.cos(a), a)"
     ],
     "language": "python",
     "metadata": {},
     "outputs": []
    },
    {
     "cell_type": "heading",
     "level": 2,
     "metadata": {},
     "source": [
      "Simplifying"
     ]
    },
    {
     "cell_type": "code",
     "collapsed": false,
     "input": [
      "x = sp.Symbol('x')\n",
      "y = sp.Symbol('y')\n",
      "\n",
      "print sp.simplify((x + x*y)/x)\n",
      "print\n",
      "print sp.simplify(sp.sin(x) / sp.cos(x))"
     ],
     "language": "python",
     "metadata": {},
     "outputs": []
    },
    {
     "cell_type": "heading",
     "level": 2,
     "metadata": {},
     "source": [
      "Series Expansion"
     ]
    },
    {
     "cell_type": "code",
     "collapsed": false,
     "input": [
      "print sp.series(sp.cos(x), x)"
     ],
     "language": "python",
     "metadata": {},
     "outputs": []
    },
    {
     "cell_type": "heading",
     "level": 2,
     "metadata": {},
     "source": [
      "Linear Algebra"
     ]
    },
    {
     "cell_type": "code",
     "collapsed": false,
     "input": [
      "from sympy import Matrix\n",
      "\n",
      "x = sp.Symbol('x')\n",
      "y = sp.Symbol('y')\n",
      "\n",
      "A = Matrix([[1,x], [y,1]])\n",
      "print A**2"
     ],
     "language": "python",
     "metadata": {},
     "outputs": []
    }
   ],
   "metadata": {}
  }
 ]
}