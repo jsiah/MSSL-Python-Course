{
 "metadata": {
  "name": "MSSL - Python Course - Clustering"
 },
 "nbformat": 3,
 "nbformat_minor": 0,
 "worksheets": [
  {
   "cells": [
    {
     "cell_type": "heading",
     "level": 1,
     "metadata": {},
     "source": [
      "Clustering"
     ]
    },
    {
     "cell_type": "raw",
     "metadata": {},
     "source": [
      "The following example has been adapted from sklearn"
     ]
    },
    {
     "cell_type": "code",
     "collapsed": false,
     "input": [
      "import numpy as np\n",
      "import pylab as pl\n",
      "from sklearn.cluster import MiniBatchKMeans, KMeans\n",
      "from sklearn.metrics.pairwise import euclidean_distances\n",
      "from sklearn.datasets.samples_generator import make_blobs\n",
      "\n",
      "# Generate sample data\n",
      "np.random.seed(0)\n",
      "batch_size = 45\n",
      "centers = [[1, 1], [-1, -1], [1, -1]]\n",
      "n_clusters = len(centers)\n",
      "X, labels_true = make_blobs(n_samples=3000, centers=centers, cluster_std=0.7)"
     ],
     "language": "python",
     "metadata": {},
     "outputs": []
    },
    {
     "cell_type": "code",
     "collapsed": false,
     "input": [
      "# Compute clustering with Means\n",
      "k_means = KMeans(init='k-means++', k=3, n_init=10)\n",
      "k_means.fit(X)\n",
      "\n",
      "k_means_labels = k_means.labels_\n",
      "k_means_cluster_centers = k_means.cluster_centers_\n",
      "\n",
      "k_means_labels_unique = np.unique(k_means_labels)"
     ],
     "language": "python",
     "metadata": {},
     "outputs": []
    },
    {
     "cell_type": "code",
     "collapsed": false,
     "input": [
      "# Plot result\n",
      "fig = pl.figure(figsize=(7, 7))\n",
      "fig.subplots_adjust(left=0.02, right=0.98, bottom=0.05, top=0.9)\n",
      "colors = ['#4EACC5', '#FF9C34', '#4E9A06']\n",
      "\n",
      "#plot\n",
      "ax = fig.add_subplot(111)\n",
      "for k, col in zip(range(n_clusters), colors):\n",
      "    my_members = k_means_labels == k\n",
      "    cluster_center = k_means_cluster_centers[k]\n",
      "    ax.plot(X[my_members, 0], X[my_members, 1], 'w',\n",
      "            markerfacecolor=col, marker='.')\n",
      "    ax.plot(cluster_center[0], cluster_center[1], 'o', markerfacecolor=col,\n",
      "                                    markeredgecolor='k', markersize=6)\n",
      "ax.set_title('KMeans')\n",
      "ax.set_xticks(())\n",
      "ax.set_yticks(())\n",
      "\n",
      "pl.show()"
     ],
     "language": "python",
     "metadata": {},
     "outputs": []
    },
    {
     "cell_type": "heading",
     "level": 2,
     "metadata": {},
     "source": [
      "Blue Cloud and Red Sequence"
     ]
    },
    {
     "cell_type": "code",
     "collapsed": false,
     "input": [
      "import sdss\n",
      "\n",
      "#our test query\n",
      "query = \"SELECT TOP 100000\\\n",
      "         p.petroMag_u, p.petroMag_g, p.petroMag_r, p.petroMag_i\\\n",
      "         from Galaxy as p\\\n",
      "         where p.petroMag_u - petroMag_g > -5 and p.petroMag_u - petroMag_g < 5\\\n",
      "         and p.petroMag_r - petroMag_i > -1.0 and p.petroMag_r - petroMag_i < 2.5\\\n",
      "         and p.petroMag_g > 16 and p.petroMag_g < 25 and p.petroMag_r < 25\"\n",
      "\n",
      "#get the data\n",
      "lines = sdss.query(query).readlines()\n",
      "\n",
      "#save data to a file, pure Python\n",
      "fh = open('../data/colour.txt', 'w')\n",
      "for line in lines:\n",
      "    fh.write(line)\n",
      "fh.close()"
     ],
     "language": "python",
     "metadata": {},
     "outputs": []
    },
    {
     "cell_type": "code",
     "collapsed": false,
     "input": [
      "data = np.loadtxt('../data/colour.txt', skiprows=1, delimiter=',')\n",
      "\n",
      "Y = data[:,0] - data[:,2]\n",
      "X = data[:,2]\n",
      "YRANGE = [-3, 8]\n",
      "XRANGE = [17, 25]"
     ],
     "language": "python",
     "metadata": {},
     "outputs": []
    },
    {
     "cell_type": "code",
     "collapsed": false,
     "input": [
      "import numpy,math\n",
      "import matplotlib.pyplot as plt\n",
      "import matplotlib.gridspec as gridspec\n",
      "\n",
      "fig = plt.figure(2, figsize=(8, 8))\n",
      "fig.subplots_adjust(hspace=0.001, wspace=0.001, left=0.10, bottom=0.095, top=0.975, right=0.98)\n",
      "\n",
      "#gridspec enables you to assign different formats to panels in one plot.\n",
      "gs = gridspec.GridSpec(2, 2, width_ratios=[1,4], height_ratios=[4,1])\n",
      "\n",
      "plt.subplot(gs[1]) # Main panel top right contains full 2D histogram.\n",
      "\n",
      "#Convert to 2d histogram using numpy\n",
      "Bins = 31\n",
      "hist2D, xedges, yedges = numpy.histogram2d(X, Y, bins=[Bins,Bins], range=[XRANGE,YRANGE],\n",
      "                                           normed=False)\n",
      "\n",
      "#plot data as 2D histogram\n",
      "hist2D = numpy.transpose(hist2D)  # Beware: numpy swaps axes, thus transpose\n",
      "plt.pcolormesh(xedges, yedges, hist2D, cmap=plt.cm.gray)\n",
      "plt.axis('off')\n",
      "\n",
      "plt.xlim(XRANGE)\n",
      "plt.ylim(YRANGE)\n",
      "\n",
      "# Bin X,Y separately. As 1D bin, can use more bins now.\n",
      "S  = 501\n",
      "LX = numpy.histogram(X, bins=S, range=XRANGE, normed=True)[0]\n",
      "LY = numpy.histogram(Y, bins=S, range=YRANGE, normed=True)[0]\n",
      "# Restore positions lost by binning.\n",
      "Xm = XRANGE[0] + (XRANGE[1]-XRANGE[0])*numpy.array(range(0,len(LX)))/float(len(LX)-1)\n",
      "Ym = YRANGE[0] + (YRANGE[1]-YRANGE[0])*numpy.array(range(0,len(LY)))/float(len(LY)-1)\n",
      "\n",
      "# bottom right panel: projected density of x.\n",
      "plt.subplot(gs[3])\n",
      "plt.plot(Xm, LX, '-', lw=3, color='black')\n",
      "\n",
      "plt.xticks(fontsize=16)\n",
      "plt.yticks([])\n",
      "plt.xlabel(r'$R \\quad [mag]$', fontsize=24)\n",
      "plt.ylabel(r'$\\cal L$', fontsize=24)\n",
      "plt.xlim(XRANGE)\n",
      "plt.ylim(0.0, 1.1*numpy.max(LX))\n",
      "\n",
      "# top left panel: projected density of y.\n",
      "plt.subplot(gs[0])\n",
      "plt.plot(LY, Ym, '-', lw=3, color='black')\n",
      "\n",
      "plt.yticks(fontsize=16)\n",
      "plt.xticks([])\n",
      "plt.xlabel(r'$\\cal L$', fontsize=24)\n",
      "plt.ylabel(r'$U - R \\quad [mag]$', fontsize=24)\n",
      "plt.xlim(0.0, 1.1*numpy.max(LY))\n",
      "plt.ylim(YRANGE)\n",
      "\n",
      "plt.show()"
     ],
     "language": "python",
     "metadata": {},
     "outputs": []
    },
    {
     "cell_type": "heading",
     "level": 3,
     "metadata": {},
     "source": [
      "Now do the clustering analysis..."
     ]
    }
   ],
   "metadata": {}
  }
 ]
}