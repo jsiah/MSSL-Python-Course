{
 "metadata": {
  "name": "MSSL - Python Course - Data Processing"
 },
 "nbformat": 3,
 "nbformat_minor": 0,
 "worksheets": [
  {
   "cells": [
    {
     "cell_type": "heading",
     "level": 1,
     "metadata": {},
     "source": [
      "Reading and Writing ASCII files"
     ]
    },
    {
     "cell_type": "heading",
     "level": 2,
     "metadata": {},
     "source": [
      "Using NumPy"
     ]
    },
    {
     "cell_type": "code",
     "collapsed": false,
     "input": [
      "import numpy as np\n",
      "from StringIO import StringIO   # Pretends your variable is really a file\n",
      "                                # because loadtxt expect a filename as input\n",
      "\n",
      "d = StringIO('''\n",
      "# Abundances of different elements\n",
      "# for TW Hya\n",
      "# taken from Guenther et al. (2007)\n",
      "# element, abund, error, first-ionisation-potential [eV]\n",
      "C  0.2  0.03 11.3\n",
      "N  0.51 0.05 14.6\n",
      "O  0.25 0.01 13.6\n",
      "Ne 2.46 0.08 21.6\n",
      "Fe 0.19 0.01  7.9\n",
      "''')\n",
      "data = np.loadtxt(d, dtype={'names': ('elem', 'abund', 'error', 'FIP'),\n",
      "                            'formats': ('S2', 'f4', 'f4', 'f4')})\n",
      "\n",
      "print data"
     ],
     "language": "python",
     "metadata": {},
     "outputs": []
    },
    {
     "cell_type": "code",
     "collapsed": false,
     "input": [
      "#see a real file on the file system\n",
      "#this is a Unix command, so it probably does not work if you Windows\n",
      "#simply ignore in this case.\n",
      "!head -10 ../data/catalog0.dat"
     ],
     "language": "python",
     "metadata": {},
     "outputs": []
    },
    {
     "cell_type": "code",
     "collapsed": false,
     "input": [
      "data = np.loadtxt('../data/catalog0.dat')  #from real file this time\n",
      "print data"
     ],
     "language": "python",
     "metadata": {},
     "outputs": []
    },
    {
     "cell_type": "code",
     "collapsed": false,
     "input": [
      "import pprint #pretty print, helps formulating prints\n",
      "\n",
      "print 'Lets look at the comment lines:'\n",
      "pprint.pprint([line.strip() for line in open('../data/catalog0.dat').readlines() if line.startswith('#')])\n",
      "#this is same as the following\n",
      "\n",
      "#for line in open('../data/catalog0.dat').readlines():\n",
      "#    if line.startswith('#'):\n",
      "#        print line.strip()  #strip removes the line change..."
     ],
     "language": "python",
     "metadata": {},
     "outputs": []
    },
    {
     "cell_type": "code",
     "collapsed": false,
     "input": [
      "#assign coordinates\n",
      "xcoords = data[:, 0] #note the row-major direction: [y, x]\n",
      "ycoords = data[:, 1]\n",
      "mags = data[:, 2]\n",
      "\n",
      "#find the brightest source\n",
      "bright = mags.argmin()\n",
      "print bright"
     ],
     "language": "python",
     "metadata": {},
     "outputs": []
    },
    {
     "cell_type": "heading",
     "level": 3,
     "metadata": {},
     "source": [
      "Plotting the data with matplotlib"
     ]
    },
    {
     "cell_type": "code",
     "collapsed": false,
     "input": [
      "import matplotlib.pyplot as plt\n",
      "from matplotlib import cm\n",
      "\n",
      "plt.figure(figsize=(8, 8))\n",
      "\n",
      "plt.scatter(xcoords, ycoords, c=mags, s=100, alpha=0.5)\n",
      "c = plt.colorbar()\n",
      "c.set_label('AB Mag')\n",
      "\n",
      "plt.xlim(xcoords[bright]*0.8, xcoords[bright]*1.2)\n",
      "plt.ylim(ycoords[bright]*0.8, ycoords[bright]*1.2)\n",
      "plt.show()"
     ],
     "language": "python",
     "metadata": {},
     "outputs": []
    },
    {
     "cell_type": "code",
     "collapsed": false,
     "input": [
      "#masks to find galaxies and stars... the third column is object type\n",
      "starmsk = data[:, 3] < 1\n",
      "galaxies = data[:, 3] > 1\n",
      "\n",
      "plt.hist(mags[starmsk], bins=15, cumulative=True, log=True, label='stars', alpha=0.3)\n",
      "plt.hist(mags[galaxies], bins=15, cumulative=True, log=True, label='galaxies', alpha=0.5)\n",
      "\n",
      "plt.xlabel('Mag AB')\n",
      "plt.legend(loc='upper left', shadow=True, fancybox=True)\n",
      "plt.show()"
     ],
     "language": "python",
     "metadata": {},
     "outputs": []
    },
    {
     "cell_type": "heading",
     "level": 2,
     "metadata": {},
     "source": [
      "Reading and Writing with asciitable"
     ]
    },
    {
     "cell_type": "code",
     "collapsed": false,
     "input": [
      "import asciitable, sys #sys to pipe the text to the notebook\n",
      "\n",
      "#reading in the table\n",
      "table = asciitable.read('../data/catalog0.dat')\n",
      "\n",
      "#header definition\n",
      "defs={'caption': 'My example table from Python'}\n",
      "\n",
      "#lets create a LaTeX table out of the 10 first entries\n",
      "small = table[:10]\n",
      "asciitable.write(small, sys.stdout, Writer=asciitable.Latex, latexdict=defs)"
     ],
     "language": "python",
     "metadata": {},
     "outputs": []
    },
    {
     "cell_type": "heading",
     "level": 1,
     "metadata": {},
     "source": [
      "Databases"
     ]
    },
    {
     "cell_type": "raw",
     "metadata": {},
     "source": [
      "Introduction to SQL: http://www.stat.berkeley.edu/~spector/sql.pdf\n",
      "sqlite: http://www.sqlite.org/\n",
      "SQL (sqlite flavour) syntax: http://www.sqlite.org/lang.html"
     ]
    },
    {
     "cell_type": "heading",
     "level": 2,
     "metadata": {},
     "source": [
      "Creating a simple database (using sqlite3)"
     ]
    },
    {
     "cell_type": "code",
     "collapsed": false,
     "input": [
      "#we use this as our input data\n",
      "print xcoords\n",
      "print ycoords\n",
      "\n",
      "#about 22k lines of data...\n",
      "print '\\n', mags.shape"
     ],
     "language": "python",
     "metadata": {},
     "outputs": []
    },
    {
     "cell_type": "code",
     "collapsed": false,
     "input": [
      "#this is a Unix command, does not probably work in Windows...\n",
      "!rm ../data/my.database #remove the old one so that a new one can be created..."
     ],
     "language": "python",
     "metadata": {},
     "outputs": []
    },
    {
     "cell_type": "code",
     "collapsed": false,
     "input": [
      "import sqlite3\n",
      "\n",
      "#open connection, create the database, and get cursor instance\n",
      "conn = sqlite3.connect('../data/my.database')\n",
      "c = conn.cursor()\n",
      "\n",
      "#create a table\n",
      "command = 'create table test(xcoordinate float, ycoordinate float, magnitude float)'\n",
      "c.execute(command)\n",
      "\n",
      "#insert data (this isn't efficient as requires looping but works with files > 2GB well...)\n",
      "for x, y, m in zip(xcoords, ycoords, mags):\n",
      "    ins = 'insert into test values(%f,%f,%f)' % (x, y, m)\n",
      "    c.execute(ins)\n",
      "\n",
      "#index the mag column to allow fast access\n",
      "c.execute('CREATE INDEX id on test (magnitude)')\n",
      "c.close()"
     ],
     "language": "python",
     "metadata": {},
     "outputs": []
    },
    {
     "cell_type": "heading",
     "level": 3,
     "metadata": {},
     "source": [
      "Querying the data"
     ]
    },
    {
     "cell_type": "code",
     "collapsed": false,
     "input": [
      "#open connection\n",
      "conn = sqlite3.connect('../data/my.database')\n",
      "c = conn.cursor()\n",
      "\n",
      "#execute the command\n",
      "query = 'select xcoordinate, magnitude from test where magnitude > 16. and magnitude < 17.1'\n",
      "c.execute(query)\n",
      "\n",
      "#fetch all data\n",
      "data = c.fetchall()\n",
      "c.close()\n",
      "\n",
      "print np.asarray(data)"
     ],
     "language": "python",
     "metadata": {},
     "outputs": []
    },
    {
     "cell_type": "heading",
     "level": 2,
     "metadata": {},
     "source": [
      "Real World Example: Querying SDSS DR8"
     ]
    },
    {
     "cell_type": "code",
     "collapsed": false,
     "input": [
      "import sdss #database interface (originally written by Tamas Budavari, JHU), provides access to DR7 & 8"
     ],
     "language": "python",
     "metadata": {},
     "outputs": []
    },
    {
     "cell_type": "code",
     "collapsed": false,
     "input": [
      "#our test query\n",
      "query = \"SELECT TOP 500\\\n",
      "         p.petroMag_u, p.petroMag_g, p.petroMag_r, p.petroMag_i, p.petroMag_z, \\\n",
      "         s.h_alpha_flux \\\n",
      "         from Galaxy as p, galSpecLine as s \\\n",
      "         WHERE p.specobjid = s.specobjid and s.h_alpha_flux < 10000 and s.h_alpha_flux > 0\"\n",
      "\n",
      "#get the data\n",
      "lines = sdss.query(query).readlines()\n",
      "\n",
      "#save data to a file, pure Python\n",
      "fh = open('../data/dr8data.txt', 'w')\n",
      "for line in lines:\n",
      "    fh.write(line)\n",
      "fh.close()"
     ],
     "language": "python",
     "metadata": {},
     "outputs": []
    },
    {
     "cell_type": "code",
     "collapsed": false,
     "input": [
      "data = np.loadtxt('../data/dr8data.txt', skiprows=1, delimiter=',')\n",
      "\n",
      "plt.figure(figsize=(7,7))\n",
      "plt.scatter(data[:,0]-data[:,3], data[:,5], s=15, c='k', alpha=0.5)\n",
      "plt.xlabel(r'petroMag$_{u} -$ petroMag$_{i}$', fontsize=20)\n",
      "plt.ylabel(r'$H_{\\alpha} \\quad$ [flux]', fontsize=20)\n",
      "plt.xlim(0, 6)\n",
      "plt.yscale('log')\n",
      "plt.show()"
     ],
     "language": "python",
     "metadata": {},
     "outputs": []
    },
    {
     "cell_type": "heading",
     "level": 1,
     "metadata": {},
     "source": [
      "Data Processing: background subtraction (adapted from python4astronomers)"
     ]
    },
    {
     "cell_type": "heading",
     "level": 3,
     "metadata": {},
     "source": [
      "Download and open data"
     ]
    },
    {
     "cell_type": "code",
     "collapsed": false,
     "input": [
      "import urllib2, tarfile\n",
      "\n",
      "#download some data and extract the tar ball\n",
      "url = 'http://python4astronomers.github.com/core/core_examples.tar'\n",
      "tarfile.open(fileobj=urllib2.urlopen(url), mode='r|').extractall()"
     ],
     "language": "python",
     "metadata": {},
     "outputs": []
    },
    {
     "cell_type": "code",
     "collapsed": false,
     "input": [
      "import pyfits as pf\n",
      "\n",
      "#stis spectroscopy\n",
      "hdus = pf.open('py4ast/core/3c120_stis.fits.gz')\n",
      "img = hdus[1].data      # Intensity data\n",
      "err = hdus[2].data      # Error per pixel\n",
      "dq = hdus[3].data       # Data quality per pixel"
     ],
     "language": "python",
     "metadata": {},
     "outputs": []
    },
    {
     "cell_type": "heading",
     "level": 3,
     "metadata": {},
     "source": [
      "Plot Data"
     ]
    },
    {
     "cell_type": "code",
     "collapsed": false,
     "input": [
      "#plot data\n",
      "plt.figure(figsize=(9,9))\n",
      "plt.imshow(img, origin='lower', vmin=-10, vmax=65)\n",
      "plt.colorbar()\n",
      "plt.show()"
     ],
     "language": "python",
     "metadata": {},
     "outputs": []
    },
    {
     "cell_type": "code",
     "collapsed": false,
     "input": [
      "profile = img.sum(axis=1) # row direction\n",
      "plt.figure()\n",
      "_ = plt.semilogy(profile)"
     ],
     "language": "python",
     "metadata": {},
     "outputs": []
    },
    {
     "cell_type": "code",
     "collapsed": false,
     "input": [
      "spectrum = img.sum(axis=0) #column direction\n",
      "plt.figure()\n",
      "_ = plt.plot(spectrum)"
     ],
     "language": "python",
     "metadata": {},
     "outputs": []
    },
    {
     "cell_type": "heading",
     "level": 3,
     "metadata": {},
     "source": [
      "Filter cosmic rays"
     ]
    },
    {
     "cell_type": "code",
     "collapsed": false,
     "input": [
      "import scipy.signal\n",
      "\n",
      "#Use a median filter to smooth out single-pixel deviations.\n",
      "img_sm = scipy.signal.medfilt(img, 5)\n",
      "\n",
      "#Use sigma-clipping to remove large variations between\n",
      "#the actual and smoothed image.\n",
      "sigma = median(err)\n",
      "bad = np.abs(img - img_sm) / sigma > 8.0\n",
      "\n",
      "img_cr = img.copy()\n",
      "img_cr[bad] = img_sm[bad]  #replace cosmic rays with median filtered data\n",
      "\n",
      "# We want filtering to effect the background, only\n",
      "img_cr[230:280,:] = img[230:280,:]  "
     ],
     "language": "python",
     "metadata": {},
     "outputs": []
    },
    {
     "cell_type": "code",
     "collapsed": false,
     "input": [
      "plt.figure(figsize=(9,9))\n",
      "plt.imshow(img_sm, origin='lower', vmin=-10, vmax=65)\n",
      "plt.title('Smoothed Image')\n",
      "plt.show()"
     ],
     "language": "python",
     "metadata": {},
     "outputs": []
    },
    {
     "cell_type": "code",
     "collapsed": false,
     "input": [
      "plt.figure(figsize=(9,9))\n",
      "plt.imshow(img_cr, origin='lower', vmin=-10, vmax=65)\n",
      "plt.title('Median Filtered Image')\n",
      "plt.show()"
     ],
     "language": "python",
     "metadata": {},
     "outputs": []
    },
    {
     "cell_type": "heading",
     "level": 3,
     "metadata": {},
     "source": [
      "Fitting the background"
     ]
    },
    {
     "cell_type": "code",
     "collapsed": false,
     "input": [
      "x = np.append(np.arange(10, 200), np.arange(300, 480))  # Background rows\n",
      "y = img_cr[x, 100]   # column 100\n",
      "\n",
      "plt.title('Column 100')\n",
      "plt.plot(x, y)\n",
      "pfit = np.polyfit(x, y, 4)   # Fit a polynomial to (x, y) data\n",
      "yfit = np.polyval(pfit, x)   # Evaluate the polynomial at x\n",
      "_ = plt.plot(x, yfit)"
     ],
     "language": "python",
     "metadata": {},
     "outputs": []
    },
    {
     "cell_type": "code",
     "collapsed": false,
     "input": [
      "#looks good, lets too every column separately\n",
      "xrows = np.arange(img_cr.shape[0])          # Array from 0 .. N_rows-1\n",
      "bkg = np.zeros(img_cr.shape)                # Empty image for background fits\n",
      "\n",
      "for col in np.arange(img_cr.shape[1]):      # Iterate over columns\n",
      "    pfit = np.polyfit(x, img_cr[x, col], 4) # Fit poly over bkg rows for col\n",
      "    bkg[:, col] = np.polyval(pfit, xrows)   # Eval poly at ALL row positions\n",
      "\n",
      "plt.figure(figsize=(9,9))\n",
      "plt.title('Background to Subtract')\n",
      "plt.imshow(bkg, origin='lower')\n",
      "plt.colorbar()\n",
      "plt.show()"
     ],
     "language": "python",
     "metadata": {},
     "outputs": []
    },
    {
     "cell_type": "heading",
     "level": 3,
     "metadata": {},
     "source": [
      "Subtracting the background"
     ]
    },
    {
     "cell_type": "code",
     "collapsed": false,
     "input": [
      "#subtract the fitter background\n",
      "img_bkg = img_cr - bkg\n",
      "\n",
      "plt.figure(figsize=(9,9))\n",
      "plt.imshow(img_bkg, origin = 'lower', vmin=0, vmax=30)\n",
      "plt.colorbar()\n",
      "plt.show()"
     ],
     "language": "python",
     "metadata": {},
     "outputs": []
    },
    {
     "cell_type": "heading",
     "level": 3,
     "metadata": {},
     "source": [
      "Plotting the final spectrum"
     ]
    },
    {
     "cell_type": "code",
     "collapsed": false,
     "input": [
      "spectrum = np.sum(img_bkg[230:280,:], axis=0)\n",
      "_ = plt.plot(spectrum)"
     ],
     "language": "python",
     "metadata": {},
     "outputs": []
    }
   ],
   "metadata": {}
  }
 ]
}