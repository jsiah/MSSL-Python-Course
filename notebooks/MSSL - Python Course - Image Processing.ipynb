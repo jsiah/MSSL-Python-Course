{
 "metadata": {
  "name": "MSSL - Python Course - Image Processing"
 },
 "nbformat": 3,
 "nbformat_minor": 0,
 "worksheets": [
  {
   "cells": [
    {
     "cell_type": "heading",
     "level": 1,
     "metadata": {},
     "source": [
      "image processing and manipulations"
     ]
    },
    {
     "cell_type": "heading",
     "level": 4,
     "metadata": {},
     "source": [
      "The following examples have been adapted from scikits-image"
     ]
    },
    {
     "cell_type": "heading",
     "level": 2,
     "metadata": {},
     "source": [
      "Segmentation (deplending of two astronomical objects)"
     ]
    },
    {
     "cell_type": "code",
     "collapsed": false,
     "input": [
      "\"\"\"\n",
      "======================\n",
      "Watershed segmentation\n",
      "======================\n",
      "\n",
      "The watershed is a classical algorithm used for **segmentation**, that\n",
      "is, for separating different objects in an image.\n",
      "\n",
      "Starting from user-defined markers, the watershed algorithm treats\n",
      "pixels values as a local topography (elevation). The algorithm floods\n",
      "basins from the markers, until basins attributed to different markers\n",
      "meet on watershed lines.  In many cases, markers are chosen as local\n",
      "minima of the image, from which basins are flooded.\n",
      "\n",
      "In the example below, two overlapping circles are to be separated. To\n",
      "do so, one computes an image that is the distance to the\n",
      "background. The maxima of this distance (i.e., the minima of the\n",
      "opposite of the distance) are chosen as markers, and the flooding of\n",
      "basins from such markers separates the two circles along a watershed\n",
      "line.\n",
      "\n",
      "See Wikipedia_ for more details on the algorithm.\n",
      "\n",
      ".. _Wikipedia: http://en.wikipedia.org/wiki/Watershed_(image_processing)\n",
      "\n",
      "\"\"\"\n",
      "import numpy as np\n",
      "from scipy import ndimage\n",
      "import matplotlib.pyplot as plt\n",
      "from skimage.morphology import watershed, is_local_maximum\n",
      "\n",
      "# Generate an initial image with two overlapping galaxies\n",
      "\n",
      "#image size (80, 80)\n",
      "x, y = np.indices((80, 80))\n",
      "\n",
      "#positions and sizes of the galaxies\n",
      "x1, y1, x2, y2 = 28, 28, 44, 52\n",
      "r1, r2 = 16, 20\n",
      "\n",
      "#assume that the galaxies are circular\n",
      "mask_galaxy1 = (x - x1)**2 + (y - y1)**2 < r1**2\n",
      "mask_galaxy2 = (x - x2)**2 + (y - y2)**2 < r2**2\n",
      "\n",
      "#Compute the truth value of x1 OR x2 elementwise\n",
      "image = np.logical_or(mask_galaxy1, mask_galaxy2)\n",
      "\n",
      "#show the image\n",
      "plt.imshow(image, origin='lower')\n",
      "plt.show()"
     ],
     "language": "python",
     "metadata": {},
     "outputs": []
    },
    {
     "cell_type": "code",
     "collapsed": false,
     "input": [
      "#Now we want to separate the two galaxies.\n",
      "#We could try to generate the markers as local\n",
      "#maxima of the distance to the background\n",
      "\n",
      "#Euclidean distance transform\n",
      "distance = ndimage.distance_transform_edt(image)\n",
      "\n",
      "#a boolean array of points that are local maxima\n",
      "local_maxi = is_local_maximum(distance, image, np.ones((3, 3)))\n",
      "\n",
      "#create labels\n",
      "markers = ndimage.label(local_maxi)[0]\n",
      "\n",
      "#a matrix labeled using the watershed segmentation algorithm\n",
      "labels = watershed(-distance, markers, mask=image)"
     ],
     "language": "python",
     "metadata": {},
     "outputs": []
    },
    {
     "cell_type": "code",
     "collapsed": false,
     "input": [
      "#plotting\n",
      "fig, axes = plt.subplots(ncols=3, figsize=(8, 2.7))\n",
      "ax0, ax1, ax2 = axes\n",
      "\n",
      "ax0.imshow(image, cmap=plt.cm.gray, interpolation='nearest', origin='lower')\n",
      "ax1.imshow(-distance, cmap=plt.cm.jet, interpolation='nearest', origin='lower')\n",
      "ax2.imshow(labels, cmap=plt.cm.spectral, interpolation='nearest', origin='lower')\n",
      "\n",
      "#turn of the axes\n",
      "for ax in axes:\n",
      "    ax.axis('off')\n",
      "\n",
      "plt.subplots_adjust(hspace=0.0, wspace=0.0, top=1, bottom=0, left=0, right=1)\n",
      "plt.show()"
     ],
     "language": "python",
     "metadata": {},
     "outputs": []
    },
    {
     "cell_type": "heading",
     "level": 2,
     "metadata": {},
     "source": [
      "Edge Detection"
     ]
    },
    {
     "cell_type": "code",
     "collapsed": false,
     "input": [
      "\"\"\"\n",
      "===================\n",
      "Canny edge detector\n",
      "===================\n",
      "\n",
      "The Canny filter is a multi-stage edge detector. It uses a filter based on the\n",
      "derivative of a Gaussian in order to compute the intensity of the gradients.The\n",
      "Gaussian reduces the effect of noise present in the image. Then, potential\n",
      "edges are thinned down to 1-pixel curves by removing non-maximum pixels of the\n",
      "gradient magnitude. Finally, edge pixels are kept or removed using hysteresis\n",
      "thresholding on the gradient magnitude.\n",
      "\n",
      "The Canny has three adjustable parameters: the width of the Gaussian (the\n",
      "noisier the image, the greater the width), and the low and high threshold for\n",
      "the hysteresis thresholding.\n",
      "\"\"\"\n",
      "import numpy as np\n",
      "import matplotlib.pyplot as plt\n",
      "from scipy import ndimage\n",
      "from skimage import filter\n",
      "\n",
      "#Generate image of zeros\n",
      "im = np.zeros((128, 128))\n",
      "#add a square\n",
      "im[6:-6, 6:-6] = 1\n",
      "\n",
      "#rotate the image 35degrees clock-wise\n",
      "im = ndimage.rotate(im, -35, mode='constant')\n",
      "\n",
      "#smooth with a Gaussian filtering\n",
      "im = ndimage.gaussian_filter(im, 3)\n",
      "\n",
      "#add noise\n",
      "im += 0.25 * np.random.random(im.shape)"
     ],
     "language": "python",
     "metadata": {},
     "outputs": []
    },
    {
     "cell_type": "code",
     "collapsed": false,
     "input": [
      "# Compute the Canny filter for two values of sigma\n",
      "edges1 = filter.canny(im)\n",
      "edges2 = filter.canny(im, sigma=3)"
     ],
     "language": "python",
     "metadata": {},
     "outputs": []
    },
    {
     "cell_type": "code",
     "collapsed": false,
     "input": [
      "# display results\n",
      "plt.figure(figsize=(9, 4))\n",
      "\n",
      "plt.subplot(131)\n",
      "plt.imshow(im, cmap=plt.cm.jet)\n",
      "plt.axis('off')\n",
      "plt.title('noisy image', fontsize=20)\n",
      "\n",
      "plt.subplot(132)\n",
      "plt.imshow(edges1, cmap=plt.cm.gray)\n",
      "plt.axis('off')\n",
      "plt.title('Canny filter, $\\sigma=1$', fontsize=20)\n",
      "\n",
      "plt.subplot(133)\n",
      "plt.imshow(edges2, cmap=plt.cm.gray)\n",
      "plt.axis('off')\n",
      "plt.title('Canny filter, $\\sigma=3$', fontsize=20)\n",
      "\n",
      "plt.subplots_adjust(wspace=0.02, hspace=0.02, top=0.9,\n",
      "                    bottom=0.02, left=0.02, right=0.98)\n",
      "\n",
      "plt.show()"
     ],
     "language": "python",
     "metadata": {},
     "outputs": []
    },
    {
     "cell_type": "heading",
     "level": 2,
     "metadata": {},
     "source": [
      "Denoising / Smoothing"
     ]
    },
    {
     "cell_type": "code",
     "collapsed": false,
     "input": [
      "\"\"\"\n",
      "====================================================\n",
      "Denoising the picture of Lena using total variation\n",
      "====================================================\n",
      "\n",
      "In this example, we denoise a noisy version of the picture of Lena\n",
      "using the total variation denoising filter. The result of this filter\n",
      "is an image that has a minimal total variation norm, while being as\n",
      "close to the initial image as possible. The total variation is the L1\n",
      "norm of the gradient of the image, and minimizing the total variation\n",
      "typically produces \"posterized\" images with flat domains separated by\n",
      "sharp edges.\n",
      "\n",
      "It is possible to change the degree of posterization by controlling\n",
      "the tradeoff between denoising and faithfulness to the original image.\n",
      "\n",
      "\"\"\"\n",
      "import numpy as np\n",
      "import matplotlib.pyplot as plt\n",
      "from skimage import data, color, img_as_ubyte\n",
      "from skimage.filter import tv_denoise\n",
      "\n",
      "#load lena data and crop the array\n",
      "l = img_as_ubyte(color.rgb2gray(data.lena()))\n",
      "l = l[230:290, 220:320]\n",
      "\n",
      "#add 1sigma random noise to lena image\n",
      "noisy = l + l.std() * np.random.random(l.shape)\n",
      "\n",
      "#try to denoise with weight 10 and 50\n",
      "tv_denoised1 = tv_denoise(noisy, weight=10)\n",
      "tv_denoised2 = tv_denoise(noisy, weight=50)"
     ],
     "language": "python",
     "metadata": {},
     "outputs": []
    },
    {
     "cell_type": "code",
     "collapsed": false,
     "input": [
      "#plotting\n",
      "plt.figure(figsize=(8, 2))\n",
      "\n",
      "plt.subplot(131)\n",
      "plt.imshow(noisy, cmap=plt.cm.gray, vmin=40, vmax=220)\n",
      "plt.axis('off')\n",
      "plt.title('noisy', fontsize=20)\n",
      "plt.subplot(132)\n",
      "plt.imshow(tv_denoised1, cmap=plt.cm.gray, vmin=40, vmax=220)\n",
      "plt.axis('off')\n",
      "plt.title('TV denoising', fontsize=20)\n",
      "\n",
      "plt.subplot(133)\n",
      "plt.imshow(tv_denoised2, cmap=plt.cm.gray, vmin=40, vmax=220)\n",
      "plt.axis('off')\n",
      "plt.title('(more) TV denoising', fontsize=20)\n",
      "\n",
      "plt.subplots_adjust(wspace=0.02, hspace=0.02, top=0.9, bottom=0, left=0,\n",
      "                    right=1)\n",
      "plt.show()"
     ],
     "language": "python",
     "metadata": {},
     "outputs": []
    }
   ],
   "metadata": {}
  }
 ]
}