{
 "metadata": {
  "name": "MSSL - Python Course - GUI"
 },
 "nbformat": 3,
 "nbformat_minor": 0,
 "worksheets": [
  {
   "cells": [
    {
     "cell_type": "heading",
     "level": 1,
     "metadata": {},
     "source": [
      "GUI"
     ]
    },
    {
     "cell_type": "heading",
     "level": 2,
     "metadata": {},
     "source": [
      "Simple Example"
     ]
    },
    {
     "cell_type": "code",
     "collapsed": false,
     "input": [
      "from Tkinter import *\n",
      "\n",
      "class Application(Frame):\n",
      "    def calculate(self):\n",
      "        print \"5*5 = %i\" % (5*5)\n",
      "\n",
      "    def createWidgets(self):\n",
      "        self.QUIT = Button(self)\n",
      "        self.QUIT[\"text\"] = \"QUIT\"\n",
      "        self.QUIT[\"fg\"]   = \"red\"\n",
      "        self.QUIT[\"command\"] =  self.quit\n",
      "\n",
      "        self.QUIT.pack({\"side\": \"left\"})\n",
      "\n",
      "        self.hi_there = Button(self)\n",
      "        self.hi_there[\"text\"] = \"Calculate\",\n",
      "        self.hi_there[\"command\"] = self.calculate\n",
      "\n",
      "        self.hi_there.pack({\"side\": \"left\"})\n",
      "\n",
      "    def __init__(self, master=None):\n",
      "        Frame.__init__(self, master)\n",
      "        self.pack()\n",
      "        self.createWidgets()\n",
      "\n",
      "root = Tk()\n",
      "app = Application(master=root)\n",
      "app.mainloop()\n",
      "root.destroy()"
     ],
     "language": "python",
     "metadata": {},
     "outputs": []
    }
   ],
   "metadata": {}
  }
 ]
}