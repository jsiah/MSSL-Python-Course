{
 "metadata": {
  "name": "MSSL - Python Course - Astronomy"
 },
 "nbformat": 3,
 "nbformat_minor": 0,
 "worksheets": [
  {
   "cells": [
    {
     "cell_type": "heading",
     "level": 1,
     "metadata": {},
     "source": [
      "Astronomy Specific Packages"
     ]
    },
    {
     "cell_type": "heading",
     "level": 2,
     "metadata": {},
     "source": [
      "FITS files"
     ]
    },
    {
     "cell_type": "heading",
     "level": 3,
     "metadata": {},
     "source": [
      "Reading FITS files with PyFITS"
     ]
    },
    {
     "cell_type": "code",
     "collapsed": false,
     "input": [
      "import pyfits as pf\n",
      "\n",
      "#create a file handler from the file\n",
      "fh = pf.open('../data/VIS.fits')\n",
      "\n",
      "#lets write out some info about the file (number of extensions, formats, image/table, etc.)\n",
      "print fh.info()"
     ],
     "language": "python",
     "metadata": {},
     "outputs": []
    },
    {
     "cell_type": "code",
     "collapsed": false,
     "input": [
      "print 'Looking at the header'\n",
      "print fh[1].header #print 1st extension header "
     ],
     "language": "python",
     "metadata": {},
     "outputs": []
    },
    {
     "cell_type": "code",
     "collapsed": false,
     "input": [
      "print fh[1].header['EXPTIME']  #pull out a single keyword"
     ],
     "language": "python",
     "metadata": {},
     "outputs": []
    },
    {
     "cell_type": "code",
     "collapsed": false,
     "input": [
      "import numpy as np\n",
      "\n",
      "print np.mean(fh[1].data), np.std(fh[1].data), np.min(fh[1].data), np.max(fh[1].data)\n",
      "\n",
      "#one should always close the file handler...\n",
      "fh.close()"
     ],
     "language": "python",
     "metadata": {},
     "outputs": []
    },
    {
     "cell_type": "heading",
     "level": 3,
     "metadata": {},
     "source": [
      "Creating a new FITS image"
     ]
    },
    {
     "cell_type": "code",
     "collapsed": false,
     "input": [
      "#noise image from Normal/Gaussian dist with mean=0 and spread/standard deviation=4.5\n",
      "n = np.random.normal(loc=0.0, scale=4.5, size=((2000, 2000)))\n",
      "\n",
      "#encapsulate the generated data into a primary header\n",
      "hdu = pf.PrimaryHDU(n)\n",
      "hdu.writeto('../data/new.fits', clobber=True)\n",
      "\n",
      "#show the file in DS9 (works only if you have DS9 installed)\n",
      "!ds9 ../data/new.fits  #! means a system call"
     ],
     "language": "python",
     "metadata": {},
     "outputs": []
    },
    {
     "cell_type": "code",
     "collapsed": false,
     "input": [
      "data = pf.open('../data/new.fits')[0].data\n",
      "print np.mean(data), np.std(data)"
     ],
     "language": "python",
     "metadata": {},
     "outputs": []
    },
    {
     "cell_type": "heading",
     "level": 3,
     "metadata": {},
     "source": [
      "Creating a new FITS table"
     ]
    },
    {
     "cell_type": "code",
     "collapsed": false,
     "input": [
      "a1 = np.array(['NGC1001', 'NGC1002', 'NGC1003'])\n",
      "a2 = np.random.rand(3)\n",
      "\n",
      "#define columns\n",
      "col1 = pf.Column(name='target', format='20A', array=a1)\n",
      "col2 = pf.Column(name='V_mag', format='E', array=a2)\n",
      "\n",
      "#creare column-definitions\n",
      "cols = pf.ColDefs([col1, col2])\n",
      "\n",
      "#create a new binary table and write the file\n",
      "tbhdu = pf.new_table(cols)\n",
      "tbhdu.writeto('../data/table.fits', clobber=True)"
     ],
     "language": "python",
     "metadata": {},
     "outputs": []
    },
    {
     "cell_type": "code",
     "collapsed": false,
     "input": [
      "fh = pf.open('../data/table.fits')\n",
      "print fh.info()"
     ],
     "language": "python",
     "metadata": {},
     "outputs": []
    },
    {
     "cell_type": "code",
     "collapsed": false,
     "input": [
      "print fh[1].data #we want the data from the first extension\n",
      "fh.close()"
     ],
     "language": "python",
     "metadata": {},
     "outputs": []
    },
    {
     "cell_type": "heading",
     "level": 2,
     "metadata": {},
     "source": [
      "Using ATpy"
     ]
    },
    {
     "cell_type": "code",
     "collapsed": false,
     "input": [
      "import urllib2  #core Python package\n",
      "\n",
      "#download data and write it to a gzipped file\n",
      "url = 'http://python4astronomers.github.com/_downloads/catalog.fits.gz'\n",
      "open('catalog.fits.gz', 'wb').write(urllib2.urlopen(url).read())"
     ],
     "language": "python",
     "metadata": {},
     "outputs": []
    },
    {
     "cell_type": "code",
     "collapsed": false,
     "input": [
      "import atpy\n",
      "\n",
      "t = atpy.Table('catalog.fits.gz') #note that this file is gzipped\n",
      "t.describe()\n",
      "\n",
      "print '\\nRAs:', t['RA']\n",
      "\n",
      "print '\\n', t['RA'].min()"
     ],
     "language": "python",
     "metadata": {},
     "outputs": []
    },
    {
     "cell_type": "heading",
     "level": 3,
     "metadata": {},
     "source": [
      "Online Queries (showing IRSA [NASA/IPAC InfraRed Data Service]  but also VO)"
     ]
    },
    {
     "cell_type": "code",
     "collapsed": false,
     "input": [
      "import atpy\n",
      "from atpy.irsa_service import list_catalogs\n",
      "\n",
      "print list_catalogs()"
     ],
     "language": "python",
     "metadata": {},
     "outputs": []
    },
    {
     "cell_type": "markdown",
     "metadata": {},
     "source": [
      "Can then do cone or box searches around objects or coordinates etc."
     ]
    },
    {
     "cell_type": "heading",
     "level": 2,
     "metadata": {},
     "source": [
      "World Coordinate Systems"
     ]
    },
    {
     "cell_type": "heading",
     "level": 3,
     "metadata": {},
     "source": [
      "Finding the RA and DEC of pixels"
     ]
    },
    {
     "cell_type": "code",
     "collapsed": false,
     "input": [
      "#I am using pywcs, but I do not have it as a separate package\n",
      "from astropy import wcs as pywcs\n",
      "from astropy.io import fits as pf\n",
      "\n",
      "#open file\n",
      "wcs = pywcs.WCS(header=pf.open('../data/VIS.fits')[1].header)"
     ],
     "language": "python",
     "metadata": {},
     "outputs": []
    },
    {
     "cell_type": "code",
     "collapsed": false,
     "input": [
      "# Print out the WCS\n",
      "print wcs.printwcs()"
     ],
     "language": "python",
     "metadata": {},
     "outputs": []
    },
    {
     "cell_type": "code",
     "collapsed": false,
     "input": [
      "# Some pixel coordinates of interest.\n",
      "pixcrd = numpy.array([[0,0],[24,38],[1024,1033]], numpy.float_)\n",
      "\n",
      "# Convert pixel coordinates to world coordinates\n",
      "# The second argument is \"origin\" -- in this case we're declaring we\n",
      "# have 1-based (FITS-like) coordinates. IF C or Numpy, then pass 0.\n",
      "sky = wcs.wcs_pix2sky(pixcrd, 1)\n",
      "print sky"
     ],
     "language": "python",
     "metadata": {},
     "outputs": []
    },
    {
     "cell_type": "heading",
     "level": 3,
     "metadata": {},
     "source": [
      "Converting RA and DEC to pixels coordinates"
     ]
    },
    {
     "cell_type": "code",
     "collapsed": false,
     "input": [
      "# Convert the same coordinates back to pixel coordinates.\n",
      "pixcrd2 = wcs.wcs_sky2pix(sky, 1)\n",
      "print pixcrd2\n",
      "\n",
      "# These should be the same as the original pixel coordinates, modulo\n",
      "# some floating-point error.\n",
      "assert numpy.max(numpy.abs(pixcrd - pixcrd2)) < 1e-6"
     ],
     "language": "python",
     "metadata": {},
     "outputs": []
    },
    {
     "cell_type": "heading",
     "level": 1,
     "metadata": {},
     "source": [
      "Pyraf Example"
     ]
    },
    {
     "cell_type": "code",
     "collapsed": false,
     "input": [
      "#if you have pyraf installation...\n",
      "print 'go to shell and pyraf_example folder and run imstat.py...'"
     ],
     "language": "python",
     "metadata": {},
     "outputs": []
    }
   ],
   "metadata": {}
  }
 ]
}