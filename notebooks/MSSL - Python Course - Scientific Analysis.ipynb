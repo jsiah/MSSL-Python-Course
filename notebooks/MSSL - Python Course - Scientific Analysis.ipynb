{
 "metadata": {
  "name": "MSSL - Python Course - Scientific Analysis"
 },
 "nbformat": 3,
 "nbformat_minor": 0,
 "worksheets": [
  {
   "cells": [
    {
     "cell_type": "heading",
     "level": 1,
     "metadata": {},
     "source": [
      "High-level Scientific Analysis with SciPy"
     ]
    },
    {
     "cell_type": "raw",
     "metadata": {},
     "source": [
      "Futher reading:\n",
      "http://docs.scipy.org/doc/scipy/reference/tutorial/index.html"
     ]
    },
    {
     "cell_type": "heading",
     "level": 2,
     "metadata": {},
     "source": [
      "Constants and Conversions"
     ]
    },
    {
     "cell_type": "code",
     "collapsed": false,
     "input": [
      "from scipy import constants as const\n",
      "\n",
      "#a few examples...\n",
      "print const.eV, const.c, const.hbar"
     ],
     "language": "python",
     "metadata": {},
     "outputs": []
    },
    {
     "cell_type": "code",
     "collapsed": false,
     "input": [
      "print const.find('Newton')  #search substring"
     ],
     "language": "python",
     "metadata": {},
     "outputs": []
    },
    {
     "cell_type": "code",
     "collapsed": false,
     "input": [
      "print const.value('Newtonian constant of gravitation')\n",
      "print const.unit('Newtonian constant of gravitation')\n",
      "print const.precision('Newtonian constant of gravitation')"
     ],
     "language": "python",
     "metadata": {},
     "outputs": []
    },
    {
     "cell_type": "code",
     "collapsed": false,
     "input": [
      "print len(const.physical_constants.keys())"
     ],
     "language": "python",
     "metadata": {},
     "outputs": []
    },
    {
     "cell_type": "code",
     "collapsed": false,
     "input": [
      "print '550nm = %e Hz' % const.lambda2nu(550*const.nano)"
     ],
     "language": "python",
     "metadata": {},
     "outputs": []
    },
    {
     "cell_type": "heading",
     "level": 5,
     "metadata": {},
     "source": [
      "All constants and conversion are from 2010 CODATA."
     ]
    },
    {
     "cell_type": "heading",
     "level": 2,
     "metadata": {},
     "source": [
      "Statistics (with scipy.stats)"
     ]
    },
    {
     "cell_type": "heading",
     "level": 3,
     "metadata": {},
     "source": [
      "Working with distributions"
     ]
    },
    {
     "cell_type": "code",
     "collapsed": false,
     "input": [
      "import numpy as np\n",
      "import scipy.stats as stats\n",
      "\n",
      "#generate a normal distribution\n",
      "bell = stats.norm()\n",
      "print bell.stats(moments='mvsk')\n",
      "#mean variance skew kurtosis"
     ],
     "language": "python",
     "metadata": {},
     "outputs": []
    },
    {
     "cell_type": "code",
     "collapsed": false,
     "input": [
      "import matplotlib.pyplot as plt\n",
      "x = np.linspace(-5, 5, 100)\n",
      "plt.semilogy(x, bell.pdf(x)) #note the log scale\n",
      "plt.show()"
     ],
     "language": "python",
     "metadata": {},
     "outputs": []
    },
    {
     "cell_type": "code",
     "collapsed": false,
     "input": [
      "#moments for normal curve:\n",
      "#1=0, 2=sigma**2, 3=0, 4=3*sigma**4\n",
      "print bell.moment(2), bell.moment(4)"
     ],
     "language": "python",
     "metadata": {},
     "outputs": []
    },
    {
     "cell_type": "code",
     "collapsed": false,
     "input": [
      "#probability density function\n",
      "#(the relative frequencies of different values for that random variable)\n",
      "print bell.pdf([-1, 0, 1., 2., 3.])\n",
      "print np.exp(-5**2/2.)/np.sqrt(2*np.pi), bell.pdf(5)"
     ],
     "language": "python",
     "metadata": {},
     "outputs": []
    },
    {
     "cell_type": "code",
     "collapsed": false,
     "input": [
      "#confidence interval with equal areas around the median\n",
      "#1sigma = 68.27%, 2sigma = 95.45%...\n",
      "print bell.interval(alpha=0.6827)\n",
      "print bell.interval(alpha=0.9545)\n",
      "print bell.interval(alpha=0.9999)"
     ],
     "language": "python",
     "metadata": {},
     "outputs": []
    },
    {
     "cell_type": "code",
     "collapsed": false,
     "input": [
      "#cumulative density function\n",
      "#(probability of a random variable falling in the interval (\u2212\u221e, x])\n",
      "print bell.cdf([-3, -2, -1, 0, 1, 2, 3])*100., '\\n'\n",
      "#survival function (1-cdf)\n",
      "print bell.sf([-3, -2, -1, 0, 1, 2, 3])"
     ],
     "language": "python",
     "metadata": {},
     "outputs": []
    },
    {
     "cell_type": "code",
     "collapsed": false,
     "input": [
      "#percent point function -- percentiles\n",
      "#or quantile function or probit function...\n",
      "#quantiles corresponding to the lower tail input probability\n",
      "print bell.ppf([0.001349898, 0.0227501319, 0.1586552539, 0.5])\n",
      "#also inverse of the cdf..."
     ],
     "language": "python",
     "metadata": {},
     "outputs": []
    },
    {
     "cell_type": "code",
     "collapsed": false,
     "input": [
      "#draw a random sample\n",
      "print bell.rvs(10)"
     ],
     "language": "python",
     "metadata": {},
     "outputs": []
    },
    {
     "cell_type": "heading",
     "level": 3,
     "metadata": {},
     "source": [
      "Test for skewness"
     ]
    },
    {
     "cell_type": "code",
     "collapsed": false,
     "input": [
      "import scipy.stats as stats\n",
      "import numpy as np\n",
      "\n",
      "np.random.seed(12345678) #set seed so that my conclusions are correct :-)\n",
      "\n",
      "print stats.skew(stats.norm.rvs(size=1e5, loc=0.0, scale=2))\n",
      "print 'For normally distributed data, the skewness should be about 0.'"
     ],
     "language": "python",
     "metadata": {},
     "outputs": []
    },
    {
     "cell_type": "heading",
     "level": 3,
     "metadata": {},
     "source": [
      "Kolmogorov-Smirnov test (are two samples different?)"
     ]
    },
    {
     "cell_type": "code",
     "collapsed": false,
     "input": [
      "#This tests whether 2 samples are drawn from the same distribution\n",
      "points1 = 200\n",
      "points2 = 300\n",
      "\n",
      "#3 normal distributions with different locations\n",
      "rvs1 = stats.norm.rvs(size=points1, loc=0., scale=1.0)\n",
      "rvs2 = stats.norm.rvs(size=points2, loc=0.5, scale=1.0)\n",
      "rvs3 = stats.norm.rvs(size=points2, loc=0.01, scale=1.0)"
     ],
     "language": "python",
     "metadata": {},
     "outputs": []
    },
    {
     "cell_type": "code",
     "collapsed": false,
     "input": [
      "D, p = stats.ks_2samp(rvs1, rvs2)\n",
      "print p\n",
      "print \"For a different distribution, we can reject the null \\\n",
      "hypothesis since the pvalue is below 1%\""
     ],
     "language": "python",
     "metadata": {},
     "outputs": []
    },
    {
     "cell_type": "code",
     "collapsed": false,
     "input": [
      "D, p = stats.ks_2samp(rvs1, rvs3)\n",
      "print p\n",
      "print \"For a slightly different distribution, we cannot reject \\\n",
      "the null hypothesis at a 10% or lower alpha \""
     ],
     "language": "python",
     "metadata": {},
     "outputs": []
    },
    {
     "cell_type": "heading",
     "level": 2,
     "metadata": {},
     "source": [
      "Optimizing"
     ]
    },
    {
     "cell_type": "heading",
     "level": 3,
     "metadata": {},
     "source": [
      "Finding the minimum"
     ]
    },
    {
     "cell_type": "code",
     "collapsed": false,
     "input": [
      "from scipy import optimize\n",
      "\n",
      "def f(x):\n",
      "    return x**2 + 10*np.sin(x)\n",
      "\n",
      "x = np.arange(-10, 10, 0.1)\n",
      "\n",
      "plt.plot(x, f(x))\n",
      "plt.show()"
     ],
     "language": "python",
     "metadata": {},
     "outputs": []
    },
    {
     "cell_type": "code",
     "collapsed": false,
     "input": [
      "#lets try first BFGS\n",
      "#gradient is given by fprime using the quasi-Newton method of \n",
      "#Broyden, Fletcher, Goldfarb, and Shanno (BFGS)\n",
      "print optimize.fmin_bfgs(f, 0) #0 is our initial guess"
     ],
     "language": "python",
     "metadata": {},
     "outputs": []
    },
    {
     "cell_type": "code",
     "collapsed": false,
     "input": [
      "#however, this may end up to the local minima if we start at 3\n",
      "print optimize.fmin_bfgs(f, 3, disp=0)"
     ],
     "language": "python",
     "metadata": {},
     "outputs": []
    },
    {
     "cell_type": "code",
     "collapsed": false,
     "input": [
      "#if we do not know anything about the function\n",
      "#we can always use brute force... but you can\n",
      "#imagine how slow this gets with real data\n",
      "grid = (-10, 10, 0.1)  #specify search grid\n",
      "print optimize.brute(f, (grid,))"
     ],
     "language": "python",
     "metadata": {},
     "outputs": []
    },
    {
     "cell_type": "heading",
     "level": 3,
     "metadata": {},
     "source": [
      "Finding roots"
     ]
    },
    {
     "cell_type": "code",
     "collapsed": false,
     "input": [
      "def f(x):\n",
      "    return (x - 1)*(x + 2)\n",
      "\n",
      "#fsolve is a wrapper around MINPACK\u2019s hybrd and hybrj algorithms.\n",
      "print optimize.fsolve(f, 3)\n",
      "print optimize.fsolve(f, -3), '\\n'\n",
      "\n",
      "#for large scale problems, maybe:\n",
      "print optimize.newton_krylov(f, 300, verbose=True), '\\n'\n",
      "print optimize.newton_krylov(f, -300)"
     ],
     "language": "python",
     "metadata": {},
     "outputs": []
    },
    {
     "cell_type": "heading",
     "level": 3,
     "metadata": {},
     "source": [
      "Fitting"
     ]
    },
    {
     "cell_type": "code",
     "collapsed": false,
     "input": [
      "from scipy.optimize import curve_fit\n",
      "\n",
      "def f(t, omega, phi):\n",
      "    return np.cos(omega * t + phi) * np.sin(t*omega)\n",
      "\n",
      "#generate data with random noise\n",
      "x = np.linspace(0, 5, 100)\n",
      "y = f(x, 1.2, 1) + .1*np.random.normal(size=100)\n",
      "\n",
      "#fit\n",
      "popt, pcov = curve_fit(f, x, y)"
     ],
     "language": "python",
     "metadata": {},
     "outputs": []
    },
    {
     "cell_type": "code",
     "collapsed": false,
     "input": [
      "plt.plot(x, y, 'bo')\n",
      "plt.plot(x, f(x, popt[0], popt[1]), 'r-', lw=3)\n",
      "plt.show()"
     ],
     "language": "python",
     "metadata": {},
     "outputs": []
    },
    {
     "cell_type": "heading",
     "level": 3,
     "metadata": {},
     "source": [
      "Weighted curve fitting"
     ]
    },
    {
     "cell_type": "code",
     "collapsed": false,
     "input": [
      "import numpy as np\n",
      "import matplotlib.pyplot as plt\n",
      "from scipy.optimize import curve_fit\n",
      "\n",
      "#a function to return Gaussian\n",
      "def gaussian(x, a, b, c):\n",
      "    return a * np.exp(-(x - b)**2 / c**2)\n",
      "\n",
      "scale = 15.\n",
      "offset = 3.3\n",
      "sigma = 1.5\n",
      "#Generate fake data\n",
      "n = 200\n",
      "x = np.random.uniform(-10., 10., n) #independent\n",
      "y = np.exp(-(x - offset)**2 / sigma**2) * scale + np.random.normal(0., 2., n) #dependent\n",
      "e = 2.*np.random.uniform(0.1, 1., n) #errors"
     ],
     "language": "python",
     "metadata": {},
     "outputs": []
    },
    {
     "cell_type": "code",
     "collapsed": false,
     "input": [
      "#Fit using Scipy's curve_fit: returns parameters and covariance matrix\n",
      "#curve_fit(function_to_fit, x_data, y_data, sigma=errors_if_available)\n",
      "popt, pcov = curve_fit(gaussian, x, y, sigma=e)\n",
      "\n",
      "print \"Scale =  %.3f +/- %.3f\" % (popt[0], np.sqrt(pcov[0, 0]))\n",
      "print \"Offset = %.3f +/- %.3f\" % (popt[1], np.sqrt(pcov[1, 1]))\n",
      "print \"Sigma =  %.3f +/- %.3f\" % (popt[2], np.sqrt(pcov[2, 2]))"
     ],
     "language": "python",
     "metadata": {},
     "outputs": []
    },
    {
     "cell_type": "code",
     "collapsed": false,
     "input": [
      "# Plot data\n",
      "plt.errorbar(x, y, yerr=e, linewidth=1, color='black', fmt=None)\n",
      "\n",
      "xm = np.linspace(-10., 10., 100)  # 100 evenly spaced points\n",
      "# Plot model\n",
      "plt.plot(xm, gaussian(xm, popt[0], popt[1], popt[2]))\n",
      "\n",
      "plt.title('Transient')\n",
      "plt.xlabel('Time [days]')\n",
      "plt.ylabel('Relative Flux Density')\n",
      "plt.show()"
     ],
     "language": "python",
     "metadata": {},
     "outputs": []
    },
    {
     "cell_type": "heading",
     "level": 2,
     "metadata": {},
     "source": [
      "Interpolation"
     ]
    },
    {
     "cell_type": "heading",
     "level": 3,
     "metadata": {},
     "source": [
      "1D"
     ]
    },
    {
     "cell_type": "code",
     "collapsed": false,
     "input": [
      "#The scipy.interpolate is based on the FITPACK \n",
      "#Fortran subroutines from the netlib project.\n",
      "from scipy.interpolate import interp1d\n",
      "import numpy as np\n",
      "\n",
      "#data\n",
      "x = np.linspace(0., 10., 10)\n",
      "y = np.cos(-x**2/8.0)\n",
      "\n",
      "#interpolations\n",
      "f = interp1d(x, y)  #linear interpolation\n",
      "f2 = interp1d(x, y, kind='cubic')"
     ],
     "language": "python",
     "metadata": {},
     "outputs": []
    },
    {
     "cell_type": "code",
     "collapsed": false,
     "input": [
      "import matplotlib.pyplot as plt\n",
      "\n",
      "#points at which to evaluate\n",
      "xnew = np.linspace(0, 10, 40)\n",
      "\n",
      "plt.plot(x, y, 'bo', label='Data')\n",
      "plt.plot(xnew, f(xnew), 'r-', label='Linear')\n",
      "plt.plot(xnew, f2(xnew),'g--', label='Cubic')\n",
      "\n",
      "plt.legend(loc='best', shadow=True, numpoints=1, fancybox=True)\n",
      "plt.show()"
     ],
     "language": "python",
     "metadata": {},
     "outputs": []
    },
    {
     "cell_type": "code",
     "collapsed": false,
     "input": [
      "from scipy.interpolate import UnivariateSpline\n",
      "\n",
      "x = np.linspace(-5, 5, 100)\n",
      "y = exp(-x**2/2.5) + np.random.rand(100)/2.5\n",
      "\n",
      "#s = smoothing factor used to choose the number of knots\n",
      "#k = degree of the smoothing spline\n",
      "s1 = UnivariateSpline(x, y, s=1, k=3) \n",
      "s2 = UnivariateSpline(x, y, s=2, k=4)\n",
      "\n",
      "xnew = np.linspace(-5, 5, 1000)\n",
      "_ = plt.plot(x, y, 'bo', label='data', alpha=0.4)"
     ],
     "language": "python",
     "metadata": {},
     "outputs": []
    },
    {
     "cell_type": "code",
     "collapsed": false,
     "input": [
      "plt.plot(x, y, 'bo', label='data', alpha=0.4)\n",
      "_ = plt.plot(xnew, s1(xnew), c='magenta', ls='-', lw='3', label='Spline 1')"
     ],
     "language": "python",
     "metadata": {},
     "outputs": []
    },
    {
     "cell_type": "code",
     "collapsed": false,
     "input": [
      "plt.plot(x, y, 'bo', label='data', alpha=0.4)\n",
      "plt.plot(xnew, s1(xnew), c='magenta', ls='-', lw='3', label='Spline 1')\n",
      "plt.plot(xnew, s2(xnew), 'g-', lw='3', label='Spline 2')\n",
      "\n",
      "plt.legend(loc='best', shadow=True, numpoints=1, fancybox=True)\n",
      "plt.show()"
     ],
     "language": "python",
     "metadata": {},
     "outputs": []
    },
    {
     "cell_type": "heading",
     "level": 3,
     "metadata": {},
     "source": [
      "2D interpolating from scattered data"
     ]
    },
    {
     "cell_type": "code",
     "collapsed": false,
     "input": [
      "import numpy as np\n",
      "\n",
      "#Create random scatter data: xpos, ypos and z-value\n",
      "x = np.random.rand(100)*4.0 - 2.0\n",
      "y = np.random.rand(100)*4.0 - 2.0\n",
      "z = x*y*np.exp(-x**2 - y**2)"
     ],
     "language": "python",
     "metadata": {},
     "outputs": []
    },
    {
     "cell_type": "code",
     "collapsed": false,
     "input": [
      "from scipy.interpolate import Rbf\n",
      "\n",
      "# use radial basis function approximation/interpolation of n-dimensional scattered data\n",
      "rbf = Rbf(x, y, z, epsilon=2)\n",
      "\n",
      "# Generate a grid [-2, 2] with 100 points\n",
      "ti = np.linspace(-2.0, 2.0, 100)\n",
      "XI, YI = np.meshgrid(ti, ti)\n",
      "\n",
      "#evaluate on the grid\n",
      "ZI = rbf(XI, YI)"
     ],
     "language": "python",
     "metadata": {},
     "outputs": []
    },
    {
     "cell_type": "code",
     "collapsed": false,
     "input": [
      "import matplotlib.pyplot as plt\n",
      "from matplotlib import cm\n",
      "\n",
      "# plot the result\n",
      "plt.pcolor(XI, YI, ZI, cmap=cm.jet)\n",
      "plt.scatter(x, y, 100, z, cmap=cm.jet)\n",
      "\n",
      "plt.title('RBF interpolation - multiquadrics')\n",
      "\n",
      "plt.xlim(-2, 2)\n",
      "plt.ylim(-2, 2)\n",
      "\n",
      "plt.colorbar()\n",
      "plt.show()"
     ],
     "language": "python",
     "metadata": {},
     "outputs": []
    },
    {
     "cell_type": "heading",
     "level": 4,
     "metadata": {},
     "source": [
      "Another way"
     ]
    },
    {
     "cell_type": "code",
     "collapsed": false,
     "input": [
      "import numpy as np\n",
      "from scipy import interpolate\n",
      "\n",
      "# Scattered data points to be interpolated\n",
      "x = np.array([0.0, 1767.0, 1767.0, 0.0, -1767.0, -1767.0, -1767.0, 0.0, 1767.0]) / 1000.\n",
      "y = np.array([0.0, 0.0, 1767.0, 1767.0, 1767.0, 0.0, -1767.0, -1767.0, -1767.0]) / 1000.\n",
      "z = np.array([527, 16, 0, 12, 69, 128, 292, 332, 198])\n",
      "\n",
      "# Coordinates to fill with interpolated data\n",
      "xi = np.linspace(np.min(x), np.max(x), 500)\n",
      "yi = np.linspace(np.min(y), np.max(y), 500)\n",
      "\n",
      "# Perform 2D interpolation\n",
      "interpolant = interpolate.interpolate.interp2d(x, y, z)\n",
      "im = interpolant(xi, yi)"
     ],
     "language": "python",
     "metadata": {},
     "outputs": []
    },
    {
     "cell_type": "code",
     "collapsed": false,
     "input": [
      "import matplotlib.pyplot as plt\n",
      "from matplotlib import cm\n",
      "\n",
      "#plotting\n",
      "plt.figure(figsize=(10, 10))\n",
      "\n",
      "p = plt.imshow(im, cmap=cm.gist_yarg, origin='lower',\n",
      "               extent=[numpy.min(x), numpy.max(x), numpy.min(y), numpy.max(y)])\n",
      "c = plt.contour(im, origin='lower',\n",
      "                extent=[numpy.min(x), numpy.max(x), numpy.min(y), numpy.max(y)])\n",
      "plt.clabel(c, inline=1, fontsize=8)\n",
      "\n",
      "c = plt.colorbar(p, orientation='horizontal', shrink=0.55)\n",
      "c.set_label('Raw Counts at Dwell Points')\n",
      "\n",
      "plt.xlabel('Dispersion Offset (arcsec)')\n",
      "plt.ylabel('Cross-Dispersion Offset (arcsec)')\n",
      "plt.title('COS Target Acquisition')\n",
      "\n",
      "plt.show()"
     ],
     "language": "python",
     "metadata": {},
     "outputs": []
    },
    {
     "cell_type": "heading",
     "level": 2,
     "metadata": {},
     "source": [
      "Signal Processing"
     ]
    },
    {
     "cell_type": "heading",
     "level": 3,
     "metadata": {},
     "source": [
      "Removing a linear trend"
     ]
    },
    {
     "cell_type": "code",
     "collapsed": false,
     "input": [
      "import matplotlib.pyplot as plt\n",
      "from scipy import signal\n",
      "\n",
      "t = np.linspace(0, 5, 100)\n",
      "x = t + np.random.normal(size=100)\n",
      "\n",
      "plt.plot(t, x, linewidth=3, c='b')\n",
      "plt.plot(t, signal.detrend(x), linewidth=3, c='g')\n",
      "plt.show()"
     ],
     "language": "python",
     "metadata": {},
     "outputs": []
    },
    {
     "cell_type": "heading",
     "level": 3,
     "metadata": {},
     "source": [
      "Resampling using Fourier method"
     ]
    },
    {
     "cell_type": "code",
     "collapsed": false,
     "input": [
      "t = np.linspace(0, 5, 100)\n",
      "x = np.sin(t)\n",
      "\n",
      "#plot\n",
      "plt.figure(figsize=(10, 10))\n",
      "plt.title('On the side of the window the resampling is less accurate...')\n",
      "plt.plot(t, x, linewidth=3)\n",
      "plt.plot(t[::2], signal.resample(x, 50), 'ko')\n",
      "plt.show()"
     ],
     "language": "python",
     "metadata": {},
     "outputs": []
    },
    {
     "cell_type": "heading",
     "level": 3,
     "metadata": {},
     "source": [
      "Convolution (Example: Gaussian smoothing)"
     ]
    },
    {
     "cell_type": "code",
     "collapsed": false,
     "input": [
      "import numpy as np\n",
      "from scipy import signal\n",
      "\n",
      "def gaussKernel(size):\n",
      "    \"Returns a normalized 2D gauss kernel array for convolutions\"\n",
      "    size = int(size)\n",
      "    x, y = np.mgrid[-size:size+1, -size:size+1]\n",
      "    g = np.exp(-(x**2/float(size) + y**2/float(size)))\n",
      "    return g / g.sum()\n",
      "\n",
      "def blur_image(im, n):\n",
      "    return signal.convolve(im, gaussKernel(n), mode='valid')"
     ],
     "language": "python",
     "metadata": {},
     "outputs": []
    },
    {
     "cell_type": "code",
     "collapsed": false,
     "input": [
      "#generate noisy data\n",
      "X, Y = np.mgrid[-70:70, -70:70]\n",
      "Z = np.cos((X**2 + Y**2)/150.) + 1.5*np.random.normal(size=X.shape)\n",
      "\n",
      "#blur image\n",
      "Z2 = blur_image(Z, 3)\n",
      "\n",
      "#plot\n",
      "fig = plt.figure(figsize=(12, 12))\n",
      "ax1 = fig.add_subplot(221)\n",
      "ax2 = fig.add_subplot(222)\n",
      "ax1.imshow(Z)\n",
      "ax2.imshow(Z2)\n",
      "plt.show()"
     ],
     "language": "python",
     "metadata": {},
     "outputs": []
    }
   ],
   "metadata": {}
  }
 ]
}