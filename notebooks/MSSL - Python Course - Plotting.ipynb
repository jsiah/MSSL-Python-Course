{
 "metadata": {
  "name": "MSSL - Python Course - Plotting"
 },
 "nbformat": 3,
 "nbformat_minor": 0,
 "worksheets": [
  {
   "cells": [
    {
     "cell_type": "heading",
     "level": 1,
     "metadata": {},
     "source": [
      "Plotting with matplotlib"
     ]
    },
    {
     "cell_type": "heading",
     "level": 2,
     "metadata": {},
     "source": [
      "Simple plotting"
     ]
    },
    {
     "cell_type": "heading",
     "level": 3,
     "metadata": {},
     "source": [
      "Line and shaded region with LaTeX rendering"
     ]
    },
    {
     "cell_type": "code",
     "collapsed": false,
     "input": [
      "import numpy as np\n",
      "import matplotlib.pyplot as plt\n",
      "from matplotlib.patches import Polygon\n",
      "\n",
      "def func(x):\n",
      "    return (x-3)*(x-5)*(x-7)+85\n",
      "\n",
      "#generate data\n",
      "a, b = 2, 9 # integral area\n",
      "x = np.arange(0, 10, 0.01)\n",
      "y = func(x)"
     ],
     "language": "python",
     "metadata": {},
     "outputs": []
    },
    {
     "cell_type": "code",
     "collapsed": false,
     "input": [
      "plt.figure(figsize=(10,7)) #resize figure\n",
      "ax = plt.subplot(111) #generate axes instance\n",
      "\n",
      "#simple line plot\n",
      "plt.plot(x, y, linewidth=1.5)\n",
      "\n",
      "# make the shaded region\n",
      "ix = np.arange(a, b, 0.01)\n",
      "iy = func(ix)\n",
      "ax.fill_between(ix, np.zeros(len(iy)), iy, facecolor='0.8')\n",
      "\n",
      "#add text, note the \"r\" in front of the string.\n",
      "#This forces the string to be read as literal and ignore \n",
      "#any Python specific string commands like \"\\\"...\n",
      "plt.text(0.5 * (a + b), 30,\n",
      "         r\"$\\int_a^b f(x)\\mathrm{d}x$\", horizontalalignment='center',\n",
      "         fontsize=30)\n",
      "\n",
      "#set y-axis limit\n",
      "ax.set_ylim(1, 200)\n",
      "\n",
      "#fiddle with the ticks\n",
      "ax.set_xticks((a,b)) #add to a and b on x-axis\n",
      "ax.set_xticklabels(('a','b'), fontsize=30) #add the text\n",
      "ax.set_yticks([]) #remove y ticks\n",
      "\n",
      "plt.show()\n",
      "#if you wish to safe the figure then use\n",
      "#plt.savefig('my_figure.pdf') #or .ps, .eps, .png, etc."
     ],
     "language": "python",
     "metadata": {},
     "outputs": []
    },
    {
     "cell_type": "heading",
     "level": 3,
     "metadata": {},
     "source": [
      "Polar coordinates"
     ]
    },
    {
     "cell_type": "code",
     "collapsed": false,
     "input": [
      "#random data\n",
      "N = 150\n",
      "r = 2*np.random.rand(N)\n",
      "theta = 2*pi*np.random.rand(N)\n",
      "area = 400*r**2*np.random.rand(N)\n",
      "colors = 2*np.random.rand(N)\n",
      "\n",
      "#polar plot\n",
      "plt.figure(figsize=(10,10))\n",
      "ax = plt.subplot(111, polar=True) #polar plot\n",
      "c = scatter(theta, r, c=colors, s=area, alpha=0.7)\n",
      "plt.show()"
     ],
     "language": "python",
     "metadata": {},
     "outputs": []
    },
    {
     "cell_type": "heading",
     "level": 3,
     "metadata": {},
     "source": [
      "Histogram"
     ]
    },
    {
     "cell_type": "code",
     "collapsed": false,
     "input": [
      "%load http://matplotlib.org/mpl_examples/api/histogram_demo.py"
     ],
     "language": "python",
     "metadata": {},
     "outputs": []
    },
    {
     "cell_type": "heading",
     "level": 3,
     "metadata": {},
     "source": [
      "Contour"
     ]
    },
    {
     "cell_type": "code",
     "collapsed": false,
     "input": [
      "#example from matplotlib website\n",
      "import numpy as np\n",
      "import matplotlib.cm as cm\n",
      "import matplotlib.mlab as mlab\n",
      "import matplotlib.pyplot as plt\n",
      "\n",
      "delta = 0.025\n",
      "x = np.arange(-3.0, 3.0, delta)\n",
      "y = np.arange(-2.0, 2.0, delta)\n",
      "X, Y = np.meshgrid(x, y)\n",
      "Z1 = mlab.bivariate_normal(X, Y, 1.0, 1.0, 0.0, 0.0)\n",
      "Z2 = mlab.bivariate_normal(X, Y, 1.5, 0.5, 1, 1)\n",
      "# difference of Gaussians\n",
      "Z = 10.0 * (Z2 - Z1)\n",
      "\n",
      "# Create a simple contour plot with labels using default colors.  The\n",
      "# inline argument to clabel will control whether the labels are draw\n",
      "# over the line segments of the contour, removing the lines beneath\n",
      "# the label\n",
      "plt.figure()\n",
      "CS = plt.contour(X, Y, Z)\n",
      "plt.clabel(CS, inline=1, fontsize=10)\n",
      "plt.title('Simplest default with labels')\n",
      "plt.show()"
     ],
     "language": "python",
     "metadata": {},
     "outputs": []
    },
    {
     "cell_type": "heading",
     "level": 3,
     "metadata": {},
     "source": [
      "Binning and subplots"
     ]
    },
    {
     "cell_type": "code",
     "collapsed": false,
     "input": [
      "%load http://matplotlib.org/mpl_examples/pylab_examples/hexbin_demo.py"
     ],
     "language": "python",
     "metadata": {},
     "outputs": []
    },
    {
     "cell_type": "code",
     "collapsed": false,
     "input": [
      "\"\"\"\n",
      "hexbin is an axes method or pyplot function that is essentially\n",
      "a pcolor of a 2-D histogram with hexagonal cells.  It can be\n",
      "much more informative than a scatter plot; in the first subplot\n",
      "below, try substituting 'scatter' for 'hexbin'.\n",
      "\"\"\"\n",
      "\n",
      "import numpy as np\n",
      "import matplotlib.cm as cm\n",
      "import  matplotlib.pyplot as plt\n",
      "\n",
      "n = 100000\n",
      "x = np.random.standard_normal(n)\n",
      "y = 2.0 + 3.0 * x + 4.0 * np.random.standard_normal(n)\n",
      "xmin = x.min()\n",
      "xmax = x.max()\n",
      "ymin = y.min()\n",
      "ymax = y.max()\n",
      "\n",
      "plt.subplots_adjust(hspace=0.5)\n",
      "plt.subplot(121)\n",
      "plt.hexbin(x,y, cmap=cm.jet)\n",
      "plt.axis([xmin, xmax, ymin, ymax])\n",
      "plt.title(\"Hexagon binning\")\n",
      "cb = plt.colorbar()\n",
      "cb.set_label('counts')\n",
      "\n",
      "plt.subplot(122)\n",
      "plt.hexbin(x,y,bins='log', cmap=cm.jet)\n",
      "plt.axis([xmin, xmax, ymin, ymax])\n",
      "plt.title(\"With a log color scale\")\n",
      "cb = plt.colorbar()\n",
      "cb.set_label('log10(N)')\n",
      "\n",
      "plt.show()\n",
      "\n"
     ],
     "language": "python",
     "metadata": {},
     "outputs": []
    },
    {
     "cell_type": "heading",
     "level": 2,
     "metadata": {},
     "source": [
      "2D histogram"
     ]
    },
    {
     "cell_type": "code",
     "collapsed": false,
     "input": [
      "import numpy,math\n",
      "import matplotlib.pyplot as plt\n",
      "import matplotlib.gridspec as gridspec\n",
      "\n",
      "# Create artificial data mimicking some MCMC results.\n",
      "N = 50000\n",
      "X = numpy.random.normal(0.0, 1.5, N)  # Draw N samples from normal distribution\n",
      "Y = numpy.random.gamma(2.0, 2.0, N)   # Draw N samples from Gamma distribution"
     ],
     "language": "python",
     "metadata": {},
     "outputs": []
    },
    {
     "cell_type": "heading",
     "level": 4,
     "metadata": {},
     "source": [
      "Usual way of plotting data"
     ]
    },
    {
     "cell_type": "code",
     "collapsed": false,
     "input": [
      "# Define plot ranges at beginning, since used often later.\n",
      "YRANGE = [-0.4,11.4]\n",
      "XRANGE = [-6.4,6.4]\n",
      "\n",
      "# Define figure size and formatting\n",
      "fig = plt.figure(1, figsize=(8, 8))\n",
      "fig.subplots_adjust(left=0.10, bottom=0.09, top=0.98, right=0.98)\n",
      "\n",
      "# Simply plot X vs. Y as data points.\n",
      "plt.plot(X, Y, 'bo', ms=3, alpha=0.2)\n",
      "\n",
      "# Set plot ranges, axes ticks and axes labels.\n",
      "plt.xlim(XRANGE)                 # Set x plot range.\n",
      "plt.ylim(YRANGE)                 # Set y plot range.\n",
      "plt.xticks(fontsize=16)          # Set ticks x axis.\n",
      "plt.yticks(fontsize=16)          # Set ticks y axis.\n",
      "plt.xlabel(r'$x$', fontsize=24)  # Set label x axis.\n",
      "plt.ylabel(r'$y$', fontsize=24)  # Set label y axis.\n",
      "\n",
      "plt.show()"
     ],
     "language": "python",
     "metadata": {},
     "outputs": []
    },
    {
     "cell_type": "heading",
     "level": 3,
     "metadata": {},
     "source": [
      "Encoding more information"
     ]
    },
    {
     "cell_type": "code",
     "collapsed": false,
     "input": [
      "fig = plt.figure(2, figsize=(12, 12))\n",
      "fig.subplots_adjust(hspace=0.001, wspace=0.001, left=0.10, bottom=0.095, top=0.975, right=0.98)\n",
      "\n",
      "#gridspec enables you to assign different formats to panels in one plot.\n",
      "gs = gridspec.GridSpec(2, 2, width_ratios=[1,4], height_ratios=[4,1])\n",
      "\n",
      "plt.subplot(gs[1]) # Main panel top right contains full 2D histogram.\n",
      "\n",
      "#Convert to 2d histogram using numpy\n",
      "Bins = 25\n",
      "hist2D, xedges, yedges = numpy.histogram2d(X, Y, bins=[Bins,Bins], range=[XRANGE,YRANGE],\n",
      "                                           normed=False)\n",
      "\n",
      "#plot data as 2D histogram\n",
      "hist2D = numpy.transpose(hist2D)  # Beware: numpy swaps axes, thus transpose\n",
      "plt.pcolormesh(xedges, yedges, hist2D, cmap=plt.cm.gray)\n",
      "\n",
      "#overplot with error contours...\n",
      "maximum    = numpy.max(hist2D)\n",
      "[L1,L2,L3] = [0.7*maximum, 0.25*maximum,0.07*maximum] \n",
      "\n",
      "#use bin edges to restore extent.\n",
      "extent = [xedges[0],xedges[-1], yedges[0],yedges[-1]]\n",
      "cs = plt.contour(hist2D, extent=extent, levels=[L1,L2,L3], linestyles=['--','--','--'],\n",
      "    colors=['orange','orange','orange'], linewidths=1)\n",
      "\n",
      "#use dictionary in order to assign your own labels to the contours.\n",
      "#these aren't really sigma, but let's pretend they are...\n",
      "fmtdict = {L1:r'$1\\sigma$',L2:r'$2\\sigma$',L3:r'$3\\sigma$'}\n",
      "plt.clabel(cs, fmt=fmtdict, inline=True, fontsize=20)\n",
      "\n",
      "plt.xlim(XRANGE)\n",
      "plt.ylim(YRANGE)\n",
      "\n",
      "# Bin X,Y separately. As 1D bin, can use more bins now.\n",
      "S  = 101\n",
      "LX = numpy.histogram(X, bins=S, range=XRANGE, normed=True)[0]\n",
      "LY = numpy.histogram(Y, bins=S, range=YRANGE, normed=True)[0]\n",
      "# Restore positions lost by binning.\n",
      "Xm = XRANGE[0] + (XRANGE[1]-XRANGE[0])*numpy.array(range(0,len(LX)))/float(len(LX)-1)\n",
      "Ym = YRANGE[0] + (YRANGE[1]-YRANGE[0])*numpy.array(range(0,len(LY)))/float(len(LY)-1)\n",
      "\n",
      "# bottom right panel: projected density of x.\n",
      "plt.subplot(gs[3])\n",
      "plt.plot(Xm, LX, '-', lw=3, color='black')\n",
      "\n",
      "plt.xticks(fontsize=16)\n",
      "plt.yticks([])\n",
      "plt.xlabel(r'$x$', fontsize=24)\n",
      "plt.ylabel(r'$\\cal L$', fontsize=24)\n",
      "plt.xlim(XRANGE)\n",
      "plt.ylim(0.0, 1.1*numpy.max(LX))\n",
      "\n",
      "# top left panel: projected density of y.\n",
      "plt.subplot(gs[0])\n",
      "plt.plot(LY, Ym, '-', lw=3, color='black')\n",
      "\n",
      "plt.yticks(fontsize=16)\n",
      "plt.xticks([])\n",
      "plt.xlabel(r'$\\cal L$', fontsize=24)\n",
      "plt.ylabel(r'$y$', fontsize=24)\n",
      "plt.xlim(0.0, 1.1*numpy.max(LY))\n",
      "plt.ylim(YRANGE)\n",
      "\n",
      "plt.show()"
     ],
     "language": "python",
     "metadata": {},
     "outputs": []
    },
    {
     "cell_type": "heading",
     "level": 3,
     "metadata": {},
     "source": [
      "Kernel Density Estimator"
     ]
    },
    {
     "cell_type": "code",
     "collapsed": false,
     "input": [
      "import MyTools as M  #courtesy of Carolin Villforth\n",
      "from matplotlib import cm\n",
      "\n",
      "kde = M.AnaKDE([X, Y])\n",
      "\n",
      "fig = plt.figure(figsize=(12, 12))\n",
      "fig.subplots_adjust(hspace=0.001, wspace=0.001, left=0.10, bottom=0.095, top=0.975, right=0.98)\n",
      "# gridspec enables you to assign different formats to panels in one plot.\n",
      "gs = gridspec.GridSpec(2, 2, width_ratios=[1,4], height_ratios=[4,1])\n",
      "\n",
      "plt.subplot(gs[1]) # Main panel top right contains full 2D histogram.\n",
      "   \n",
      "x_vec, y_vec, zm, lvls, d0, d1 = kde.contour(np.linspace(XRANGE[0] - 0.1, XRANGE[1] + 0.1, 50),\n",
      "                                             np.linspace(YRANGE[0] - 0.1, YRANGE[1] + 0.1, 50),\n",
      "                                             return_data=True)\n",
      "\n",
      "plt.plot(X, Y, 'ko', ms=2, alpha=0.4)\n",
      "\n",
      "plt.contourf(x_vec, y_vec, zm,\n",
      "             levels=np.linspace(0.002, np.max(zm), 10),\n",
      "             cmap=cm.get_cmap('gist_yarg'), alpha=0.8,\n",
      "             zorder=10, lw=2)\n",
      "\n",
      "cs = plt.contour(hist2D, extent=extent, levels=[L1,L2,L3], \n",
      "                 linestyles=['--','--','--'],\n",
      "                 colors=['r',]*3, linewidths=1.9, alpha=1, zorder=25)\n",
      "\n",
      "plt.xlim(XRANGE)\n",
      "plt.ylim(YRANGE)\n",
      "\n",
      "# Bin X,Y separately. As 1D bin, can use more bins now.\n",
      "S  = 101\n",
      "LX = numpy.histogram(X, bins=S, range=XRANGE, normed=True)[0]\n",
      "LY = numpy.histogram(Y, bins=S, range=YRANGE, normed=True)[0]\n",
      "# Restore positions lost by binning.\n",
      "Xm = XRANGE[0] + (XRANGE[1]-XRANGE[0])*numpy.array(range(0,len(LX)))/float(len(LX)-1)\n",
      "Ym = YRANGE[0] + (YRANGE[1]-YRANGE[0])*numpy.array(range(0,len(LY)))/float(len(LY)-1)\n",
      "\n",
      "# bottom right panel: projected density of x.\n",
      "plt.subplot(gs[3])\n",
      "plt.plot(Xm, LX, '-', lw=3, color='black')\n",
      "\n",
      "plt.xticks(fontsize=16)\n",
      "plt.yticks([])\n",
      "plt.xlabel(r'$x$', fontsize=24)\n",
      "plt.ylabel(r'$\\cal L$', fontsize=24)\n",
      "plt.xlim(XRANGE)\n",
      "plt.ylim(0.0, 1.1*numpy.max(LX))\n",
      "\n",
      "# top left panel: projected density of y.\n",
      "plt.subplot(gs[0])\n",
      "plt.plot(LY, Ym, '-', lw=3, color='black')\n",
      "\n",
      "plt.yticks(fontsize=16)\n",
      "plt.xticks([])\n",
      "plt.xlabel(r'$\\cal L$', fontsize=24)\n",
      "plt.ylabel(r'$y$', fontsize=24)\n",
      "plt.xlim(0.0, 1.1*numpy.max(LY))\n",
      "plt.ylim(YRANGE)\n",
      "\n",
      "plt.show()"
     ],
     "language": "python",
     "metadata": {},
     "outputs": []
    },
    {
     "cell_type": "heading",
     "level": 2,
     "metadata": {},
     "source": [
      "Basemap"
     ]
    },
    {
     "cell_type": "code",
     "collapsed": false,
     "input": [
      "from mpl_toolkits.basemap import Basemap\n",
      "import matplotlib.pyplot as plt\n",
      "import numpy as np\n",
      "\n",
      "plt.figure(figsize=(14,14))\n",
      "# set up orthographic map projection with\n",
      "# perspective of satellite looking down at 30N, 0W.\n",
      "# use low resolution coastlines.\n",
      "# don't plot features that are smaller than 500 square km.\n",
      "map = Basemap(projection='ortho', lat_0=30, lon_0=0,\n",
      "resolution='l', area_thresh=500.)\n",
      "\n",
      "# draw coastlines, country boundaries, fill continents.\n",
      "map.drawcoastlines()\n",
      "map.drawcountries()\n",
      "map.bluemarble()\n",
      "\n",
      "#mark some very significant places\n",
      "places = ['MSSL', u'Jyv\u00e4skyl\u00e4']\n",
      "lats = [51.1833, 62.2500]\n",
      "lons = [-0.41667, 25.7500]\n",
      "x, y = map(lons, lats)\n",
      "map.scatter(x, y, s=20, marker='*', color='white')\n",
      "for name, xpt, ypt in zip(places, x, y):\n",
      "    plt.text(xpt+50000, ypt+50000, name, color='white', style='italic',\n",
      "             weight='bold')\n",
      "\n",
      "# make up some data on a regular lat/lon grid.\n",
      "nlats = 50; nlons = 100; delta = 2.*np.pi/(nlons-1)\n",
      "lats = (0.5*np.pi-delta*np.indices((nlats,nlons))[0,:,:])\n",
      "lons = (delta*np.indices((nlats,nlons))[1,:,:])\n",
      "wave = 0.75*(np.sin(2.*lats)**8*np.cos(4.*lons))\n",
      "mean = 0.5*np.cos(2.*lats)*((np.sin(2.*lats))**2 + 2.)\n",
      "# compute native map projection coordinates of lat/lon grid.\n",
      "x, y = map(lons*180./np.pi, lats*180./np.pi)\n",
      "# contour data over the map.\n",
      "CS = map.contour(x, y, wave+mean, 15, linewidths=1.1)\n",
      "\n",
      "# draw the edge of the map projection region (the projection limb)\n",
      "map.drawmapboundary()\n",
      "\n",
      "# draw lat/lon grid lines every 30 degrees.\n",
      "map.drawmeridians(np.arange(0, 360, 30))\n",
      "map.drawparallels(np.arange(-90, 90, 30))\n",
      "plt.show()"
     ],
     "language": "python",
     "metadata": {},
     "outputs": []
    }
   ],
   "metadata": {}
  }
 ]
}